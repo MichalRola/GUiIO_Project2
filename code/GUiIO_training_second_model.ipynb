{
  "cells": [
    {
      "cell_type": "markdown",
      "metadata": {
        "id": "CAjzL5aSvivQ"
      },
      "source": [
        "# Inicjalizacja"
      ]
    },
    {
      "cell_type": "code",
      "execution_count": 1,
      "metadata": {
        "id": "mmV19AX7v7yx"
      },
      "outputs": [],
      "source": [
        "import requests\n",
        "import tensorflow as tf\n",
        "from datetime import datetime\n",
        "import numpy as np\n",
        "import pandas as pd\n",
        "import matplotlib.pyplot as plt\n",
        "\n"
      ]
    },
    {
      "cell_type": "code",
      "execution_count": null,
      "metadata": {
        "id": "bJcJMXNBt6N5"
      },
      "outputs": [],
      "source": [
        "#pliki do nauki pod linkiem : https://aghedupl-my.sharepoint.com/:f:/g/personal/pmamos_student_agh_edu_pl/EqU9cP9q_jRBuiR489nSu7MBm48MUUj7pxSA0Wy94y6plw?e=RfV3PR"
      ]
    },
    {
      "cell_type": "markdown",
      "metadata": {
        "id": "nPiIrV7vwtQO"
      },
      "source": [
        "# Tworzenie datasetu"
      ]
    },
    {
      "cell_type": "code",
      "execution_count": 2,
      "metadata": {
        "colab": {
          "base_uri": "https://localhost:8080/"
        },
        "id": "fdeoL186vwDY",
        "outputId": "d86739b3-8017-4dc9-9b5f-c4db40558598"
      },
      "outputs": [
        {
          "output_type": "stream",
          "name": "stdout",
          "text": [
            "Mounted at /content/drive\n",
            "/content\n"
          ]
        }
      ],
      "source": [
        "from google.colab import drive\n",
        "drive.mount('/content/drive')\n",
        "\n",
        "%cd /content/"
      ]
    },
    {
      "cell_type": "markdown",
      "metadata": {
        "id": "wsIu66Wg0z8k"
      },
      "source": [
        "# Transformacja danych wejściowych"
      ]
    },
    {
      "cell_type": "code",
      "execution_count": 3,
      "metadata": {
        "id": "-f2S5yyo068m"
      },
      "outputs": [],
      "source": [
        "\n",
        "from sklearn.preprocessing import LabelEncoder\n",
        "\n",
        "labels = np.load('labels_mfcc.npy')\n",
        "data_mfcc = np.load('processed_data_mfcc.npy')\n",
        "data_mfcc = data_mfcc.reshape((data_mfcc.shape[0], 26, 65, 1))\n",
        "\n",
        "lbenc = LabelEncoder()\n",
        "labels = lbenc.fit_transform(labels)\n",
        "classes = lbenc.classes_\n",
        "\n",
        "#To samo dla stft\n",
        "data_mfcc_stft = np.load('processed_data_mfcc_stft.npy')\n",
        "data_mfcc_stft = data_mfcc_stft.reshape((data_mfcc_stft.shape[0], 26, 65, 1))\n",
        "labels_stft = np.load('labels_mfcc.npy')\n",
        "\n",
        "labels = lbenc.fit_transform(labels_stft)\n",
        "classes_stft = lbenc.classes_\n"
      ]
    },
    {
      "cell_type": "code",
      "execution_count": null,
      "metadata": {
        "colab": {
          "base_uri": "https://localhost:8080/"
        },
        "id": "2_CJTHRg1g4U",
        "outputId": "879f0d33-73b2-48f4-87db-d44c44f02379"
      },
      "outputs": [
        {
          "output_type": "stream",
          "name": "stdout",
          "text": [
            "(13280, 26, 65, 1) (2846, 26, 65, 1) (2846, 26, 65, 1)\n",
            "(13280, 26, 65, 3) (2846, 26, 65, 3) (2846, 26, 65, 3)\n"
          ]
        }
      ],
      "source": [
        "# from sklearn.model_selection import train_test_split\n",
        "\n",
        "# X_train, X_test, y_train, y_test = train_test_split(data_mfcc, labels, train_size=0.7)\n",
        "\n",
        "# X_test, X_valid, y_test, y_valid = train_test_split(X_test, y_test, train_size=0.5)\n",
        "\n",
        "# print(X_train.shape, X_test.shape, X_valid.shape)\n",
        "\n",
        "# X_train = np.squeeze(np.stack((X_train,) * 3, -1))\n",
        "# X_test = np.squeeze(np.stack((X_test,) * 3, -1))\n",
        "# X_valid = np.squeeze(np.stack((X_valid,) * 3, -1))\n",
        "\n",
        "\n",
        "# print(X_train.shape, X_test.shape, X_valid.shape)"
      ]
    },
    {
      "cell_type": "code",
      "source": [
        "# #To samo dla stft\n",
        "# X_train_stft, X_test_stft, y_train_stft, y_test_stft = train_test_split(data_mfcc_stft, labels, train_size=0.7)\n",
        "\n",
        "# X_test_stft, X_valid_stft, y_test_stft, y_valid_stft = train_test_split(X_test_stft, y_test_stft, train_size=0.5)\n",
        "\n",
        "# print(X_train_stft.shape, X_test_stft.shape, X_valid_stft.shape)\n",
        "\n",
        "# X_train_stft = np.squeeze(np.stack((X_train_stft,) * 3, -1))\n",
        "# X_test_stft = np.squeeze(np.stack((X_test_stft,) * 3, -1))\n",
        "# X_valid_stft = np.squeeze(np.stack((X_valid_stft,) * 3, -1))\n",
        "\n",
        "# print(X_train_stft.shape, X_test_stft.shape, X_valid_stft.shape)"
      ],
      "metadata": {
        "colab": {
          "base_uri": "https://localhost:8080/"
        },
        "id": "g6Midun558E9",
        "outputId": "00bcc9ae-6f71-4afa-fee7-b6500a6d3964"
      },
      "execution_count": null,
      "outputs": [
        {
          "output_type": "stream",
          "name": "stdout",
          "text": [
            "(13280, 26, 65, 1) (2846, 26, 65, 1) (2846, 26, 65, 1)\n",
            "(13280, 26, 65, 3) (2846, 26, 65, 3) (2846, 26, 65, 3)\n"
          ]
        }
      ]
    },
    {
      "cell_type": "markdown",
      "metadata": {
        "id": "jgIScJUq38OG"
      },
      "source": [
        "# Tworzenie modelu\n",
        "\n",
        "Testowane modele (ilość parametrów, głębokość):\n",
        "- MobileNet: 4.3M; 55,\n",
        "- DenseNet121: 8.1M; 242,\n",
        "- Xception: 22.9M;\t81,\n",
        "- InceptionResNetV2: 55.9M; 449,\n",
        "- EfficientNetB7: 66.7M; 438,"
      ]
    },
    {
      "cell_type": "code",
      "execution_count": null,
      "metadata": {
        "colab": {
          "base_uri": "https://localhost:8080/"
        },
        "id": "tD8pJKDa4BHz",
        "outputId": "552a92d6-a513-4d1d-850a-ea84a67d18df"
      },
      "outputs": [
        {
          "output_type": "stream",
          "name": "stdout",
          "text": [
            "(26, 65, 3)\n"
          ]
        }
      ],
      "source": [
        "# tf.random.set_seed(42)\n",
        "# tf.keras.backend.clear_session()\n",
        "# n_classes = 10\n",
        "# input_shape = X_train[0].shape\n",
        "# print(input_shape)\n"
      ]
    },
    {
      "cell_type": "code",
      "execution_count": null,
      "metadata": {
        "colab": {
          "base_uri": "https://localhost:8080/"
        },
        "id": "zl_CTrwo7-39",
        "outputId": "3b7e12ab-839d-47db-a793-6d5b67178aca"
      },
      "outputs": [
        {
          "output_type": "stream",
          "name": "stderr",
          "text": [
            "WARNING:tensorflow:Layer lstm_3 will not use cuDNN kernels since it doesn't meet the criteria. It will use a generic GPU kernel as fallback when running on GPU.\n",
            "WARNING:tensorflow:Layer lstm_4 will not use cuDNN kernels since it doesn't meet the criteria. It will use a generic GPU kernel as fallback when running on GPU.\n",
            "WARNING:tensorflow:Layer lstm_5 will not use cuDNN kernels since it doesn't meet the criteria. It will use a generic GPU kernel as fallback when running on GPU.\n"
          ]
        },
        {
          "output_type": "stream",
          "name": "stdout",
          "text": [
            "Model: \"sequential_5\"\n",
            "_________________________________________________________________\n",
            " Layer (type)                Output Shape              Param #   \n",
            "=================================================================\n",
            " conv2d_23 (Conv2D)          (None, 24, 63, 16)        448       \n",
            "                                                                 \n",
            " max_pooling2d_15 (MaxPooli  (None, 12, 32, 16)        0         \n",
            " ng2D)                                                           \n",
            "                                                                 \n",
            " dropout_15 (Dropout)        (None, 12, 32, 16)        0         \n",
            "                                                                 \n",
            " conv2d_24 (Conv2D)          (None, 10, 30, 32)        4640      \n",
            "                                                                 \n",
            " max_pooling2d_16 (MaxPooli  (None, 5, 15, 32)         0         \n",
            " ng2D)                                                           \n",
            "                                                                 \n",
            " dropout_16 (Dropout)        (None, 5, 15, 32)         0         \n",
            "                                                                 \n",
            " conv2d_25 (Conv2D)          (None, 5, 15, 64)         18496     \n",
            "                                                                 \n",
            " max_pooling2d_17 (MaxPooli  (None, 3, 8, 64)          0         \n",
            " ng2D)                                                           \n",
            "                                                                 \n",
            " dropout_17 (Dropout)        (None, 3, 8, 64)          0         \n",
            "                                                                 \n",
            " conv2d_26 (Conv2D)          (None, 3, 8, 128)         73856     \n",
            "                                                                 \n",
            " max_pooling2d_18 (MaxPooli  (None, 2, 4, 128)         0         \n",
            " ng2D)                                                           \n",
            "                                                                 \n",
            " dropout_18 (Dropout)        (None, 2, 4, 128)         0         \n",
            "                                                                 \n",
            " conv2d_27 (Conv2D)          (None, 2, 4, 64)          73792     \n",
            "                                                                 \n",
            " max_pooling2d_19 (MaxPooli  (None, 1, 1, 64)          0         \n",
            " ng2D)                                                           \n",
            "                                                                 \n",
            " dropout_19 (Dropout)        (None, 1, 1, 64)          0         \n",
            "                                                                 \n",
            " reshape_2 (Reshape)         (None, 1, 64)             0         \n",
            "                                                                 \n",
            " lstm_3 (LSTM)               (None, 1, 128)            98816     \n",
            "                                                                 \n",
            " lstm_4 (LSTM)               (None, 1, 128)            131584    \n",
            "                                                                 \n",
            " lstm_5 (LSTM)               (None, 64)                49408     \n",
            "                                                                 \n",
            " dense_10 (Dense)            (None, 32)                2080      \n",
            "                                                                 \n",
            " dense_11 (Dense)            (None, 10)                330       \n",
            "                                                                 \n",
            "=================================================================\n",
            "Total params: 453450 (1.73 MB)\n",
            "Trainable params: 453450 (1.73 MB)\n",
            "Non-trainable params: 0 (0.00 Byte)\n",
            "_________________________________________________________________\n"
          ]
        }
      ],
      "source": [
        "# from keras.models import Sequential\n",
        "# from keras.layers import Conv2D, MaxPooling2D, Dense, Flatten, Dropout, Input, Reshape, LSTM, GRU\n",
        "# from keras.regularizers import l1\n",
        "\n",
        "\n",
        "# model = Sequential()\n",
        "# # Conv Block 1\n",
        "# model.add(Conv2D(16, kernel_size=(3, 3), strides=(1, 1), activation='relu', input_shape=input_shape))\n",
        "# model.add(MaxPooling2D(pool_size=(2, 2), strides=(2, 2), padding='same'))\n",
        "# model.add(Dropout(0.25))\n",
        "\n",
        "# # Conv Block 2\n",
        "# model.add(Conv2D(32, (3, 3), strides=(1, 1), activation='relu'))\n",
        "# model.add(MaxPooling2D(pool_size=(2, 2), strides=(2, 2), padding='same'))\n",
        "# model.add(Dropout(0.25))\n",
        "\n",
        "# # Conv Block 3\n",
        "# model.add(Conv2D(64, (3, 3), strides=(1, 1), activation='relu', padding='same'))\n",
        "# model.add(MaxPooling2D(pool_size=(2, 2), strides=(2, 2), padding='same'))\n",
        "# model.add(Dropout(0.25))\n",
        "\n",
        "# # Conv Block 4\n",
        "# model.add(Conv2D(128, (3, 3), strides=(1, 1), activation='relu', padding='same'))\n",
        "# model.add(MaxPooling2D(pool_size=(2, 2), strides=(2, 2), padding='same'))\n",
        "# model.add(Dropout(0.25))\n",
        "\n",
        "# # Conv Block 5\n",
        "# model.add(Conv2D(64, (3, 3), strides=(1, 1), activation='relu',\tpadding='same'))\n",
        "# model.add(MaxPooling2D(pool_size=(4, 4), strides=(4, 4), padding='same'))\n",
        "# model.add(Dropout(0.25))\n",
        "\n",
        "# # LSTM Block\n",
        "# # model.add(Reshape((16, 64)))\n",
        "# # model.add(LSTM(units=128, dropout=0.05, recurrent_dropout=0.35, return_sequences=True, input_shape=(8,128)))\n",
        "# # model.add(LSTM(units=128, dropout=0.05, recurrent_dropout=0.35, return_sequences=True))\n",
        "# # model.add(LSTM(units=64, dropout=0.05, recurrent_dropout=0.35, return_sequences=False))\n",
        "# # model.add(Dense(units=32, kernel_regularizer=l1(0.01), activation='relu'))\n",
        "# # model.add(Dense(units=10, activation='softmax', kernel_regularizer=l1(0.01)))\n",
        "# # Reshape Layer for LSTM\n",
        "# model.add(Reshape((1, 64)))\n",
        "\n",
        "# # LSTM Block\n",
        "# model.add(LSTM(units=128, dropout=0.05, recurrent_dropout=0.35, return_sequences=True))\n",
        "# model.add(LSTM(units=128, dropout=0.05, recurrent_dropout=0.35, return_sequences=True))\n",
        "# model.add(LSTM(units=64, dropout=0.05, recurrent_dropout=0.35, return_sequences=False))\n",
        "\n",
        "# # Fully Connected Block\n",
        "# model.add(Dense(units=32, kernel_regularizer=l1(0.01), activation='relu'))\n",
        "# model.add(Dense(units=10, activation='softmax', kernel_regularizer=l1(0.01)))\n",
        "\n",
        "# model.summary()"
      ]
    },
    {
      "cell_type": "code",
      "execution_count": null,
      "metadata": {
        "id": "xv9LTKJh8CKi",
        "colab": {
          "base_uri": "https://localhost:8080/",
          "height": 339
        },
        "outputId": "a3f15ca6-d58a-4688-ed0f-2038e4dcf4c5"
      },
      "outputs": [
        {
          "output_type": "stream",
          "name": "stdout",
          "text": [
            "Epoch 1/150\n"
          ]
        },
        {
          "output_type": "error",
          "ename": "KeyboardInterrupt",
          "evalue": "",
          "traceback": [
            "\u001b[0;31m---------------------------------------------------------------------------\u001b[0m",
            "\u001b[0;31mKeyboardInterrupt\u001b[0m                         Traceback (most recent call last)",
            "\u001b[0;32m<ipython-input-36-b9989a647217>\u001b[0m in \u001b[0;36m<cell line: 18>\u001b[0;34m()\u001b[0m\n\u001b[1;32m     16\u001b[0m \u001b[0mmodel\u001b[0m\u001b[0;34m.\u001b[0m\u001b[0mcompile\u001b[0m\u001b[0;34m(\u001b[0m\u001b[0mloss\u001b[0m\u001b[0;34m=\u001b[0m\u001b[0;34m\"sparse_categorical_crossentropy\"\u001b[0m\u001b[0;34m,\u001b[0m \u001b[0moptimizer\u001b[0m\u001b[0;34m=\u001b[0m\u001b[0mkeras\u001b[0m\u001b[0;34m.\u001b[0m\u001b[0moptimizers\u001b[0m\u001b[0;34m.\u001b[0m\u001b[0mAdam\u001b[0m\u001b[0;34m(\u001b[0m\u001b[0;34m)\u001b[0m\u001b[0;34m,\u001b[0m \u001b[0mmetrics\u001b[0m\u001b[0;34m=\u001b[0m\u001b[0;34m[\u001b[0m\u001b[0;34m\"accuracy\"\u001b[0m\u001b[0;34m]\u001b[0m\u001b[0;34m)\u001b[0m\u001b[0;34m\u001b[0m\u001b[0;34m\u001b[0m\u001b[0m\n\u001b[1;32m     17\u001b[0m \u001b[0;34m\u001b[0m\u001b[0m\n\u001b[0;32m---> 18\u001b[0;31m \u001b[0mhistory\u001b[0m \u001b[0;34m=\u001b[0m \u001b[0mmodel\u001b[0m\u001b[0;34m.\u001b[0m\u001b[0mfit\u001b[0m\u001b[0;34m(\u001b[0m\u001b[0mX_train_stft\u001b[0m\u001b[0;34m,\u001b[0m \u001b[0my_train_stft\u001b[0m\u001b[0;34m,\u001b[0m \u001b[0mvalidation_data\u001b[0m\u001b[0;34m=\u001b[0m\u001b[0;34m(\u001b[0m\u001b[0mX_valid_stft\u001b[0m\u001b[0;34m,\u001b[0m \u001b[0my_valid_stft\u001b[0m\u001b[0;34m)\u001b[0m\u001b[0;34m,\u001b[0m \u001b[0mepochs\u001b[0m\u001b[0;34m=\u001b[0m\u001b[0;36m150\u001b[0m\u001b[0;34m,\u001b[0m \u001b[0mbatch_size\u001b[0m\u001b[0;34m=\u001b[0m\u001b[0mbatch_size\u001b[0m\u001b[0;34m,\u001b[0m \u001b[0mcallbacks\u001b[0m\u001b[0;34m=\u001b[0m\u001b[0mcallbacks\u001b[0m\u001b[0;34m,\u001b[0m \u001b[0mshuffle\u001b[0m\u001b[0;34m=\u001b[0m\u001b[0;32mFalse\u001b[0m\u001b[0;34m)\u001b[0m\u001b[0;34m\u001b[0m\u001b[0;34m\u001b[0m\u001b[0m\n\u001b[0m",
            "\u001b[0;32m/usr/local/lib/python3.10/dist-packages/keras/src/utils/traceback_utils.py\u001b[0m in \u001b[0;36merror_handler\u001b[0;34m(*args, **kwargs)\u001b[0m\n\u001b[1;32m     63\u001b[0m         \u001b[0mfiltered_tb\u001b[0m \u001b[0;34m=\u001b[0m \u001b[0;32mNone\u001b[0m\u001b[0;34m\u001b[0m\u001b[0;34m\u001b[0m\u001b[0m\n\u001b[1;32m     64\u001b[0m         \u001b[0;32mtry\u001b[0m\u001b[0;34m:\u001b[0m\u001b[0;34m\u001b[0m\u001b[0;34m\u001b[0m\u001b[0m\n\u001b[0;32m---> 65\u001b[0;31m             \u001b[0;32mreturn\u001b[0m \u001b[0mfn\u001b[0m\u001b[0;34m(\u001b[0m\u001b[0;34m*\u001b[0m\u001b[0margs\u001b[0m\u001b[0;34m,\u001b[0m \u001b[0;34m**\u001b[0m\u001b[0mkwargs\u001b[0m\u001b[0;34m)\u001b[0m\u001b[0;34m\u001b[0m\u001b[0;34m\u001b[0m\u001b[0m\n\u001b[0m\u001b[1;32m     66\u001b[0m         \u001b[0;32mexcept\u001b[0m \u001b[0mException\u001b[0m \u001b[0;32mas\u001b[0m \u001b[0me\u001b[0m\u001b[0;34m:\u001b[0m\u001b[0;34m\u001b[0m\u001b[0;34m\u001b[0m\u001b[0m\n\u001b[1;32m     67\u001b[0m             \u001b[0mfiltered_tb\u001b[0m \u001b[0;34m=\u001b[0m \u001b[0m_process_traceback_frames\u001b[0m\u001b[0;34m(\u001b[0m\u001b[0me\u001b[0m\u001b[0;34m.\u001b[0m\u001b[0m__traceback__\u001b[0m\u001b[0;34m)\u001b[0m\u001b[0;34m\u001b[0m\u001b[0;34m\u001b[0m\u001b[0m\n",
            "\u001b[0;32m/usr/local/lib/python3.10/dist-packages/keras/src/engine/training.py\u001b[0m in \u001b[0;36mfit\u001b[0;34m(self, x, y, batch_size, epochs, verbose, callbacks, validation_split, validation_data, shuffle, class_weight, sample_weight, initial_epoch, steps_per_epoch, validation_steps, validation_batch_size, validation_freq, max_queue_size, workers, use_multiprocessing)\u001b[0m\n\u001b[1;32m   1805\u001b[0m                         ):\n\u001b[1;32m   1806\u001b[0m                             \u001b[0mcallbacks\u001b[0m\u001b[0;34m.\u001b[0m\u001b[0mon_train_batch_begin\u001b[0m\u001b[0;34m(\u001b[0m\u001b[0mstep\u001b[0m\u001b[0;34m)\u001b[0m\u001b[0;34m\u001b[0m\u001b[0;34m\u001b[0m\u001b[0m\n\u001b[0;32m-> 1807\u001b[0;31m                             \u001b[0mtmp_logs\u001b[0m \u001b[0;34m=\u001b[0m \u001b[0mself\u001b[0m\u001b[0;34m.\u001b[0m\u001b[0mtrain_function\u001b[0m\u001b[0;34m(\u001b[0m\u001b[0miterator\u001b[0m\u001b[0;34m)\u001b[0m\u001b[0;34m\u001b[0m\u001b[0;34m\u001b[0m\u001b[0m\n\u001b[0m\u001b[1;32m   1808\u001b[0m                             \u001b[0;32mif\u001b[0m \u001b[0mdata_handler\u001b[0m\u001b[0;34m.\u001b[0m\u001b[0mshould_sync\u001b[0m\u001b[0;34m:\u001b[0m\u001b[0;34m\u001b[0m\u001b[0;34m\u001b[0m\u001b[0m\n\u001b[1;32m   1809\u001b[0m                                 \u001b[0mcontext\u001b[0m\u001b[0;34m.\u001b[0m\u001b[0masync_wait\u001b[0m\u001b[0;34m(\u001b[0m\u001b[0;34m)\u001b[0m\u001b[0;34m\u001b[0m\u001b[0;34m\u001b[0m\u001b[0m\n",
            "\u001b[0;32m/usr/local/lib/python3.10/dist-packages/tensorflow/python/util/traceback_utils.py\u001b[0m in \u001b[0;36merror_handler\u001b[0;34m(*args, **kwargs)\u001b[0m\n\u001b[1;32m    148\u001b[0m     \u001b[0mfiltered_tb\u001b[0m \u001b[0;34m=\u001b[0m \u001b[0;32mNone\u001b[0m\u001b[0;34m\u001b[0m\u001b[0;34m\u001b[0m\u001b[0m\n\u001b[1;32m    149\u001b[0m     \u001b[0;32mtry\u001b[0m\u001b[0;34m:\u001b[0m\u001b[0;34m\u001b[0m\u001b[0;34m\u001b[0m\u001b[0m\n\u001b[0;32m--> 150\u001b[0;31m       \u001b[0;32mreturn\u001b[0m \u001b[0mfn\u001b[0m\u001b[0;34m(\u001b[0m\u001b[0;34m*\u001b[0m\u001b[0margs\u001b[0m\u001b[0;34m,\u001b[0m \u001b[0;34m**\u001b[0m\u001b[0mkwargs\u001b[0m\u001b[0;34m)\u001b[0m\u001b[0;34m\u001b[0m\u001b[0;34m\u001b[0m\u001b[0m\n\u001b[0m\u001b[1;32m    151\u001b[0m     \u001b[0;32mexcept\u001b[0m \u001b[0mException\u001b[0m \u001b[0;32mas\u001b[0m \u001b[0me\u001b[0m\u001b[0;34m:\u001b[0m\u001b[0;34m\u001b[0m\u001b[0;34m\u001b[0m\u001b[0m\n\u001b[1;32m    152\u001b[0m       \u001b[0mfiltered_tb\u001b[0m \u001b[0;34m=\u001b[0m \u001b[0m_process_traceback_frames\u001b[0m\u001b[0;34m(\u001b[0m\u001b[0me\u001b[0m\u001b[0;34m.\u001b[0m\u001b[0m__traceback__\u001b[0m\u001b[0;34m)\u001b[0m\u001b[0;34m\u001b[0m\u001b[0;34m\u001b[0m\u001b[0m\n",
            "\u001b[0;32m/usr/local/lib/python3.10/dist-packages/tensorflow/python/eager/polymorphic_function/polymorphic_function.py\u001b[0m in \u001b[0;36m__call__\u001b[0;34m(self, *args, **kwds)\u001b[0m\n\u001b[1;32m    830\u001b[0m \u001b[0;34m\u001b[0m\u001b[0m\n\u001b[1;32m    831\u001b[0m       \u001b[0;32mwith\u001b[0m \u001b[0mOptionalXlaContext\u001b[0m\u001b[0;34m(\u001b[0m\u001b[0mself\u001b[0m\u001b[0;34m.\u001b[0m\u001b[0m_jit_compile\u001b[0m\u001b[0;34m)\u001b[0m\u001b[0;34m:\u001b[0m\u001b[0;34m\u001b[0m\u001b[0;34m\u001b[0m\u001b[0m\n\u001b[0;32m--> 832\u001b[0;31m         \u001b[0mresult\u001b[0m \u001b[0;34m=\u001b[0m \u001b[0mself\u001b[0m\u001b[0;34m.\u001b[0m\u001b[0m_call\u001b[0m\u001b[0;34m(\u001b[0m\u001b[0;34m*\u001b[0m\u001b[0margs\u001b[0m\u001b[0;34m,\u001b[0m \u001b[0;34m**\u001b[0m\u001b[0mkwds\u001b[0m\u001b[0;34m)\u001b[0m\u001b[0;34m\u001b[0m\u001b[0;34m\u001b[0m\u001b[0m\n\u001b[0m\u001b[1;32m    833\u001b[0m \u001b[0;34m\u001b[0m\u001b[0m\n\u001b[1;32m    834\u001b[0m       \u001b[0mnew_tracing_count\u001b[0m \u001b[0;34m=\u001b[0m \u001b[0mself\u001b[0m\u001b[0;34m.\u001b[0m\u001b[0mexperimental_get_tracing_count\u001b[0m\u001b[0;34m(\u001b[0m\u001b[0;34m)\u001b[0m\u001b[0;34m\u001b[0m\u001b[0;34m\u001b[0m\u001b[0m\n",
            "\u001b[0;32m/usr/local/lib/python3.10/dist-packages/tensorflow/python/eager/polymorphic_function/polymorphic_function.py\u001b[0m in \u001b[0;36m_call\u001b[0;34m(self, *args, **kwds)\u001b[0m\n\u001b[1;32m    903\u001b[0m         \u001b[0;31m# Lifting succeeded, so variables are initialized and we can run the\u001b[0m\u001b[0;34m\u001b[0m\u001b[0;34m\u001b[0m\u001b[0m\n\u001b[1;32m    904\u001b[0m         \u001b[0;31m# no_variable_creation function.\u001b[0m\u001b[0;34m\u001b[0m\u001b[0;34m\u001b[0m\u001b[0m\n\u001b[0;32m--> 905\u001b[0;31m         return tracing_compilation.call_function(\n\u001b[0m\u001b[1;32m    906\u001b[0m             \u001b[0margs\u001b[0m\u001b[0;34m,\u001b[0m \u001b[0mkwds\u001b[0m\u001b[0;34m,\u001b[0m \u001b[0mself\u001b[0m\u001b[0;34m.\u001b[0m\u001b[0m_no_variable_creation_config\u001b[0m\u001b[0;34m\u001b[0m\u001b[0;34m\u001b[0m\u001b[0m\n\u001b[1;32m    907\u001b[0m         )\n",
            "\u001b[0;32m/usr/local/lib/python3.10/dist-packages/tensorflow/python/eager/polymorphic_function/tracing_compilation.py\u001b[0m in \u001b[0;36mcall_function\u001b[0;34m(args, kwargs, tracing_options)\u001b[0m\n\u001b[1;32m    137\u001b[0m   \u001b[0mbound_args\u001b[0m \u001b[0;34m=\u001b[0m \u001b[0mfunction\u001b[0m\u001b[0;34m.\u001b[0m\u001b[0mfunction_type\u001b[0m\u001b[0;34m.\u001b[0m\u001b[0mbind\u001b[0m\u001b[0;34m(\u001b[0m\u001b[0;34m*\u001b[0m\u001b[0margs\u001b[0m\u001b[0;34m,\u001b[0m \u001b[0;34m**\u001b[0m\u001b[0mkwargs\u001b[0m\u001b[0;34m)\u001b[0m\u001b[0;34m\u001b[0m\u001b[0;34m\u001b[0m\u001b[0m\n\u001b[1;32m    138\u001b[0m   \u001b[0mflat_inputs\u001b[0m \u001b[0;34m=\u001b[0m \u001b[0mfunction\u001b[0m\u001b[0;34m.\u001b[0m\u001b[0mfunction_type\u001b[0m\u001b[0;34m.\u001b[0m\u001b[0munpack_inputs\u001b[0m\u001b[0;34m(\u001b[0m\u001b[0mbound_args\u001b[0m\u001b[0;34m)\u001b[0m\u001b[0;34m\u001b[0m\u001b[0;34m\u001b[0m\u001b[0m\n\u001b[0;32m--> 139\u001b[0;31m   return function._call_flat(  # pylint: disable=protected-access\n\u001b[0m\u001b[1;32m    140\u001b[0m       \u001b[0mflat_inputs\u001b[0m\u001b[0;34m,\u001b[0m \u001b[0mcaptured_inputs\u001b[0m\u001b[0;34m=\u001b[0m\u001b[0mfunction\u001b[0m\u001b[0;34m.\u001b[0m\u001b[0mcaptured_inputs\u001b[0m\u001b[0;34m\u001b[0m\u001b[0;34m\u001b[0m\u001b[0m\n\u001b[1;32m    141\u001b[0m   )\n",
            "\u001b[0;32m/usr/local/lib/python3.10/dist-packages/tensorflow/python/eager/polymorphic_function/concrete_function.py\u001b[0m in \u001b[0;36m_call_flat\u001b[0;34m(self, tensor_inputs, captured_inputs)\u001b[0m\n\u001b[1;32m   1321\u001b[0m         and executing_eagerly):\n\u001b[1;32m   1322\u001b[0m       \u001b[0;31m# No tape is watching; skip to running the function.\u001b[0m\u001b[0;34m\u001b[0m\u001b[0;34m\u001b[0m\u001b[0m\n\u001b[0;32m-> 1323\u001b[0;31m       \u001b[0;32mreturn\u001b[0m \u001b[0mself\u001b[0m\u001b[0;34m.\u001b[0m\u001b[0m_inference_function\u001b[0m\u001b[0;34m.\u001b[0m\u001b[0mcall_preflattened\u001b[0m\u001b[0;34m(\u001b[0m\u001b[0margs\u001b[0m\u001b[0;34m)\u001b[0m\u001b[0;34m\u001b[0m\u001b[0;34m\u001b[0m\u001b[0m\n\u001b[0m\u001b[1;32m   1324\u001b[0m     forward_backward = self._select_forward_and_backward_functions(\n\u001b[1;32m   1325\u001b[0m         \u001b[0margs\u001b[0m\u001b[0;34m,\u001b[0m\u001b[0;34m\u001b[0m\u001b[0;34m\u001b[0m\u001b[0m\n",
            "\u001b[0;32m/usr/local/lib/python3.10/dist-packages/tensorflow/python/eager/polymorphic_function/atomic_function.py\u001b[0m in \u001b[0;36mcall_preflattened\u001b[0;34m(self, args)\u001b[0m\n\u001b[1;32m    214\u001b[0m   \u001b[0;32mdef\u001b[0m \u001b[0mcall_preflattened\u001b[0m\u001b[0;34m(\u001b[0m\u001b[0mself\u001b[0m\u001b[0;34m,\u001b[0m \u001b[0margs\u001b[0m\u001b[0;34m:\u001b[0m \u001b[0mSequence\u001b[0m\u001b[0;34m[\u001b[0m\u001b[0mcore\u001b[0m\u001b[0;34m.\u001b[0m\u001b[0mTensor\u001b[0m\u001b[0;34m]\u001b[0m\u001b[0;34m)\u001b[0m \u001b[0;34m->\u001b[0m \u001b[0mAny\u001b[0m\u001b[0;34m:\u001b[0m\u001b[0;34m\u001b[0m\u001b[0;34m\u001b[0m\u001b[0m\n\u001b[1;32m    215\u001b[0m     \u001b[0;34m\"\"\"Calls with flattened tensor inputs and returns the structured output.\"\"\"\u001b[0m\u001b[0;34m\u001b[0m\u001b[0;34m\u001b[0m\u001b[0m\n\u001b[0;32m--> 216\u001b[0;31m     \u001b[0mflat_outputs\u001b[0m \u001b[0;34m=\u001b[0m \u001b[0mself\u001b[0m\u001b[0;34m.\u001b[0m\u001b[0mcall_flat\u001b[0m\u001b[0;34m(\u001b[0m\u001b[0;34m*\u001b[0m\u001b[0margs\u001b[0m\u001b[0;34m)\u001b[0m\u001b[0;34m\u001b[0m\u001b[0;34m\u001b[0m\u001b[0m\n\u001b[0m\u001b[1;32m    217\u001b[0m     \u001b[0;32mreturn\u001b[0m \u001b[0mself\u001b[0m\u001b[0;34m.\u001b[0m\u001b[0mfunction_type\u001b[0m\u001b[0;34m.\u001b[0m\u001b[0mpack_output\u001b[0m\u001b[0;34m(\u001b[0m\u001b[0mflat_outputs\u001b[0m\u001b[0;34m)\u001b[0m\u001b[0;34m\u001b[0m\u001b[0;34m\u001b[0m\u001b[0m\n\u001b[1;32m    218\u001b[0m \u001b[0;34m\u001b[0m\u001b[0m\n",
            "\u001b[0;32m/usr/local/lib/python3.10/dist-packages/tensorflow/python/eager/polymorphic_function/atomic_function.py\u001b[0m in \u001b[0;36mcall_flat\u001b[0;34m(self, *args)\u001b[0m\n\u001b[1;32m    249\u001b[0m         \u001b[0;32mwith\u001b[0m \u001b[0mrecord\u001b[0m\u001b[0;34m.\u001b[0m\u001b[0mstop_recording\u001b[0m\u001b[0;34m(\u001b[0m\u001b[0;34m)\u001b[0m\u001b[0;34m:\u001b[0m\u001b[0;34m\u001b[0m\u001b[0;34m\u001b[0m\u001b[0m\n\u001b[1;32m    250\u001b[0m           \u001b[0;32mif\u001b[0m \u001b[0mself\u001b[0m\u001b[0;34m.\u001b[0m\u001b[0m_bound_context\u001b[0m\u001b[0;34m.\u001b[0m\u001b[0mexecuting_eagerly\u001b[0m\u001b[0;34m(\u001b[0m\u001b[0;34m)\u001b[0m\u001b[0;34m:\u001b[0m\u001b[0;34m\u001b[0m\u001b[0;34m\u001b[0m\u001b[0m\n\u001b[0;32m--> 251\u001b[0;31m             outputs = self._bound_context.call_function(\n\u001b[0m\u001b[1;32m    252\u001b[0m                 \u001b[0mself\u001b[0m\u001b[0;34m.\u001b[0m\u001b[0mname\u001b[0m\u001b[0;34m,\u001b[0m\u001b[0;34m\u001b[0m\u001b[0;34m\u001b[0m\u001b[0m\n\u001b[1;32m    253\u001b[0m                 \u001b[0mlist\u001b[0m\u001b[0;34m(\u001b[0m\u001b[0margs\u001b[0m\u001b[0;34m)\u001b[0m\u001b[0;34m,\u001b[0m\u001b[0;34m\u001b[0m\u001b[0;34m\u001b[0m\u001b[0m\n",
            "\u001b[0;32m/usr/local/lib/python3.10/dist-packages/tensorflow/python/eager/context.py\u001b[0m in \u001b[0;36mcall_function\u001b[0;34m(self, name, tensor_inputs, num_outputs)\u001b[0m\n\u001b[1;32m   1484\u001b[0m     \u001b[0mcancellation_context\u001b[0m \u001b[0;34m=\u001b[0m \u001b[0mcancellation\u001b[0m\u001b[0;34m.\u001b[0m\u001b[0mcontext\u001b[0m\u001b[0;34m(\u001b[0m\u001b[0;34m)\u001b[0m\u001b[0;34m\u001b[0m\u001b[0;34m\u001b[0m\u001b[0m\n\u001b[1;32m   1485\u001b[0m     \u001b[0;32mif\u001b[0m \u001b[0mcancellation_context\u001b[0m \u001b[0;32mis\u001b[0m \u001b[0;32mNone\u001b[0m\u001b[0;34m:\u001b[0m\u001b[0;34m\u001b[0m\u001b[0;34m\u001b[0m\u001b[0m\n\u001b[0;32m-> 1486\u001b[0;31m       outputs = execute.execute(\n\u001b[0m\u001b[1;32m   1487\u001b[0m           \u001b[0mname\u001b[0m\u001b[0;34m.\u001b[0m\u001b[0mdecode\u001b[0m\u001b[0;34m(\u001b[0m\u001b[0;34m\"utf-8\"\u001b[0m\u001b[0;34m)\u001b[0m\u001b[0;34m,\u001b[0m\u001b[0;34m\u001b[0m\u001b[0;34m\u001b[0m\u001b[0m\n\u001b[1;32m   1488\u001b[0m           \u001b[0mnum_outputs\u001b[0m\u001b[0;34m=\u001b[0m\u001b[0mnum_outputs\u001b[0m\u001b[0;34m,\u001b[0m\u001b[0;34m\u001b[0m\u001b[0;34m\u001b[0m\u001b[0m\n",
            "\u001b[0;32m/usr/local/lib/python3.10/dist-packages/tensorflow/python/eager/execute.py\u001b[0m in \u001b[0;36mquick_execute\u001b[0;34m(op_name, num_outputs, inputs, attrs, ctx, name)\u001b[0m\n\u001b[1;32m     51\u001b[0m   \u001b[0;32mtry\u001b[0m\u001b[0;34m:\u001b[0m\u001b[0;34m\u001b[0m\u001b[0;34m\u001b[0m\u001b[0m\n\u001b[1;32m     52\u001b[0m     \u001b[0mctx\u001b[0m\u001b[0;34m.\u001b[0m\u001b[0mensure_initialized\u001b[0m\u001b[0;34m(\u001b[0m\u001b[0;34m)\u001b[0m\u001b[0;34m\u001b[0m\u001b[0;34m\u001b[0m\u001b[0m\n\u001b[0;32m---> 53\u001b[0;31m     tensors = pywrap_tfe.TFE_Py_Execute(ctx._handle, device_name, op_name,\n\u001b[0m\u001b[1;32m     54\u001b[0m                                         inputs, attrs, num_outputs)\n\u001b[1;32m     55\u001b[0m   \u001b[0;32mexcept\u001b[0m \u001b[0mcore\u001b[0m\u001b[0;34m.\u001b[0m\u001b[0m_NotOkStatusException\u001b[0m \u001b[0;32mas\u001b[0m \u001b[0me\u001b[0m\u001b[0;34m:\u001b[0m\u001b[0;34m\u001b[0m\u001b[0;34m\u001b[0m\u001b[0m\n",
            "\u001b[0;31mKeyboardInterrupt\u001b[0m: "
          ]
        }
      ],
      "source": [
        "# from pathlib import Path\n",
        "# import keras\n",
        "# batch_size = 128\n",
        "\n",
        "# logs = Path() / \"my_logs\" / \"run_\" / \"Xception_v2\"\n",
        "# checkpoint_filepath = \"my_checkpoints.Xception_v2.model.keras\"\n",
        "\n",
        "# early_stopping_cb = tf.keras.callbacks.EarlyStopping(patience=20, restore_best_weights=True)\n",
        "# model_checkpoint_cb = tf.keras.callbacks.ModelCheckpoint(filepath=checkpoint_filepath, monitor='val_accuracy', save_best_only=True)\n",
        "# tensorboard_cb = tf.keras.callbacks.TensorBoard(log_dir=logs)\n",
        "\n",
        "# callbacks = [early_stopping_cb, model_checkpoint_cb, tensorboard_cb]\n",
        "\n",
        "# # optimizer = tf.keras.optimizers.Nadam(learning_rate=0.001)\n",
        "# optimizer = tf.keras.optimizers.SGD(learning_rate=0.01, momentum=0.9)\n",
        "# model.compile(loss=\"sparse_categorical_crossentropy\", optimizer=keras.optimizers.Adam(), metrics=[\"accuracy\"])\n",
        "\n",
        "# history = model.fit(X_train_stft, y_train_stft, validation_data=(X_valid_stft, y_valid_stft), epochs=150, batch_size=batch_size, callbacks=callbacks, shuffle=False)"
      ]
    },
    {
      "cell_type": "code",
      "execution_count": null,
      "metadata": {
        "colab": {
          "base_uri": "https://localhost:8080/"
        },
        "id": "OWMasAPr97Wd",
        "outputId": "12a85dbf-079b-41a0-fa6b-5fd28a352c6e"
      },
      "outputs": [
        {
          "name": "stdout",
          "output_type": "stream",
          "text": [
            "67\n"
          ]
        }
      ],
      "source": []
    },
    {
      "cell_type": "code",
      "execution_count": 5,
      "metadata": {
        "colab": {
          "base_uri": "https://localhost:8080/"
        },
        "id": "tW34jaGM-_GJ",
        "outputId": "1a1983ee-1ae6-45eb-bab9-86418f1607be"
      },
      "outputs": [
        {
          "output_type": "stream",
          "name": "stdout",
          "text": [
            "Model: \"sequential\"\n",
            "_________________________________________________________________\n",
            " Layer (type)                Output Shape              Param #   \n",
            "=================================================================\n",
            " conv2d (Conv2D)             (None, 26, 65, 256)       2560      \n",
            "                                                                 \n",
            " batch_normalization (Batch  (None, 26, 65, 256)       1024      \n",
            " Normalization)                                                  \n",
            "                                                                 \n",
            " conv2d_1 (Conv2D)           (None, 26, 65, 256)       590080    \n",
            "                                                                 \n",
            " batch_normalization_1 (Bat  (None, 26, 65, 256)       1024      \n",
            " chNormalization)                                                \n",
            "                                                                 \n",
            " average_pooling2d (Average  (None, 13, 33, 256)       0         \n",
            " Pooling2D)                                                      \n",
            "                                                                 \n",
            " conv2d_2 (Conv2D)           (None, 13, 33, 256)       590080    \n",
            "                                                                 \n",
            " batch_normalization_2 (Bat  (None, 13, 33, 256)       1024      \n",
            " chNormalization)                                                \n",
            "                                                                 \n",
            " average_pooling2d_1 (Avera  (None, 7, 17, 256)        0         \n",
            " gePooling2D)                                                    \n",
            "                                                                 \n",
            " conv2d_3 (Conv2D)           (None, 7, 17, 512)        2097664   \n",
            "                                                                 \n",
            " batch_normalization_3 (Bat  (None, 7, 17, 512)        2048      \n",
            " chNormalization)                                                \n",
            "                                                                 \n",
            " global_average_pooling2d (  (None, 512)               0         \n",
            " GlobalAveragePooling2D)                                         \n",
            "                                                                 \n",
            " dense (Dense)               (None, 256)               131328    \n",
            "                                                                 \n",
            " dropout (Dropout)           (None, 256)               0         \n",
            "                                                                 \n",
            " dense_1 (Dense)             (None, 128)               32896     \n",
            "                                                                 \n",
            " dropout_1 (Dropout)         (None, 128)               0         \n",
            "                                                                 \n",
            " dense_2 (Dense)             (None, 10)                1290      \n",
            "                                                                 \n",
            "=================================================================\n",
            "Total params: 3451018 (13.16 MB)\n",
            "Trainable params: 3448458 (13.15 MB)\n",
            "Non-trainable params: 2560 (10.00 KB)\n",
            "_________________________________________________________________\n"
          ]
        }
      ],
      "source": [
        "from keras import layers, regularizers\n",
        "import keras\n",
        "model = keras.Sequential([\n",
        "    keras.Input(shape=(26,65,1)),\n",
        "    layers.Conv2D(256,(3),padding='same',activation='relu'),\n",
        "    layers.BatchNormalization(),\n",
        "    layers.Conv2D(256,(3),padding='same',activation='relu'),\n",
        "    layers.BatchNormalization(),\n",
        "    layers.AveragePooling2D(pool_size=(3),strides=(2),padding='same'),\n",
        "    layers.Conv2D(256,(3),padding='same',activation='relu'),\n",
        "    layers.BatchNormalization(),\n",
        "    layers.AveragePooling2D(pool_size=(3),strides=(2),padding='same'),\n",
        "    layers.Conv2D(512,(4),padding='same',activation='relu'),\n",
        "    layers.BatchNormalization(),\n",
        "    layers.GlobalAveragePooling2D(),\n",
        "    layers.Dense(256,activation='relu', kernel_regularizer=regularizers.l2(0.01)),\n",
        "    layers.Dropout(0.5),\n",
        "    layers.Dense(128,activation='relu', kernel_regularizer=regularizers.l2(0.01)),\n",
        "    layers.Dropout(0.5),\n",
        "    layers.Dense(10,activation='softmax')\n",
        "])\n",
        "optimizer = tf.keras.optimizers.SGD(learning_rate=0.01, momentum=0.9)\n",
        "model.compile(loss=\"sparse_categorical_crossentropy\", optimizer=optimizer, metrics=[\"accuracy\"])\n",
        "model.summary()"
      ]
    },
    {
      "cell_type": "code",
      "source": [
        "from sklearn.model_selection import train_test_split\n",
        "X_train, X_test, y_train, y_test = train_test_split(data_mfcc, labels, train_size=0.7)\n",
        "\n",
        "X_test, X_valid, y_test, y_valid = train_test_split(X_test, y_test, train_size=0.5)"
      ],
      "metadata": {
        "id": "-O0n999jrgTo"
      },
      "execution_count": 6,
      "outputs": []
    },
    {
      "cell_type": "code",
      "source": [
        "from pathlib import Path\n",
        "import keras\n",
        "batch_size = 128\n",
        "logs = Path() / \"my_logs\" / \"run_\" / \"Xception_v2\"\n",
        "checkpoint_filepath = \"my_checkpoints.Xception_v2.model.keras\"\n",
        "\n",
        "early_stopping_cb = tf.keras.callbacks.EarlyStopping(patience=20, restore_best_weights=True)\n",
        "model_checkpoint_cb = tf.keras.callbacks.ModelCheckpoint(filepath=checkpoint_filepath, monitor='val_accuracy', save_best_only=True)\n",
        "tensorboard_cb = tf.keras.callbacks.TensorBoard(log_dir=logs)\n",
        "\n",
        "callbacks = [early_stopping_cb, model_checkpoint_cb, tensorboard_cb]\n",
        "\n",
        "# optimizer = tf.keras.optimizers.Nadam(learning_rate=0.001)\n",
        "\n",
        "history = model.fit(X_train, y_train, validation_data=(X_valid, y_valid), epochs=150, batch_size=batch_size, callbacks=callbacks, shuffle=False)"
      ],
      "metadata": {
        "colab": {
          "base_uri": "https://localhost:8080/"
        },
        "id": "AhlqdUnZr3pk",
        "outputId": "3c7617c0-6eb4-4c96-d8ea-991f8472cfde"
      },
      "execution_count": 7,
      "outputs": [
        {
          "output_type": "stream",
          "name": "stdout",
          "text": [
            "Epoch 1/150\n",
            "104/104 [==============================] - 45s 292ms/step - loss: 5.9780 - accuracy: 0.4024 - val_loss: 5.5020 - val_accuracy: 0.2639\n",
            "Epoch 2/150\n",
            "104/104 [==============================] - 22s 214ms/step - loss: 4.1498 - accuracy: 0.5370 - val_loss: 3.7643 - val_accuracy: 0.4582\n",
            "Epoch 3/150\n",
            "104/104 [==============================] - 24s 231ms/step - loss: 3.0602 - accuracy: 0.5970 - val_loss: 2.7557 - val_accuracy: 0.5734\n",
            "Epoch 4/150\n",
            "104/104 [==============================] - 24s 234ms/step - loss: 2.3509 - accuracy: 0.6312 - val_loss: 2.0161 - val_accuracy: 0.6729\n",
            "Epoch 5/150\n",
            "104/104 [==============================] - 23s 217ms/step - loss: 1.8662 - accuracy: 0.6645 - val_loss: 1.6351 - val_accuracy: 0.6985\n",
            "Epoch 6/150\n",
            "104/104 [==============================] - 22s 215ms/step - loss: 1.5554 - accuracy: 0.6837 - val_loss: 1.4699 - val_accuracy: 0.6669\n",
            "Epoch 7/150\n",
            "104/104 [==============================] - 23s 219ms/step - loss: 1.3202 - accuracy: 0.7074 - val_loss: 1.2076 - val_accuracy: 0.7287\n",
            "Epoch 8/150\n",
            "104/104 [==============================] - 24s 229ms/step - loss: 1.1623 - accuracy: 0.7294 - val_loss: 1.1408 - val_accuracy: 0.7041\n",
            "Epoch 9/150\n",
            "104/104 [==============================] - 22s 216ms/step - loss: 1.0517 - accuracy: 0.7467 - val_loss: 1.1574 - val_accuracy: 0.6904\n",
            "Epoch 10/150\n",
            "104/104 [==============================] - 24s 228ms/step - loss: 0.9621 - accuracy: 0.7602 - val_loss: 1.0697 - val_accuracy: 0.7122\n",
            "Epoch 11/150\n",
            "104/104 [==============================] - 23s 217ms/step - loss: 0.8788 - accuracy: 0.7797 - val_loss: 0.9235 - val_accuracy: 0.7547\n",
            "Epoch 12/150\n",
            "104/104 [==============================] - 24s 230ms/step - loss: 0.8233 - accuracy: 0.7916 - val_loss: 0.8898 - val_accuracy: 0.7561\n",
            "Epoch 13/150\n",
            "104/104 [==============================] - 24s 228ms/step - loss: 0.7689 - accuracy: 0.8118 - val_loss: 0.9033 - val_accuracy: 0.7547\n",
            "Epoch 14/150\n",
            "104/104 [==============================] - 23s 218ms/step - loss: 0.7277 - accuracy: 0.8249 - val_loss: 0.7325 - val_accuracy: 0.8106\n",
            "Epoch 15/150\n",
            "104/104 [==============================] - 24s 228ms/step - loss: 0.6851 - accuracy: 0.8362 - val_loss: 0.8145 - val_accuracy: 0.7822\n",
            "Epoch 16/150\n",
            "104/104 [==============================] - 22s 216ms/step - loss: 0.6521 - accuracy: 0.8485 - val_loss: 0.8346 - val_accuracy: 0.7716\n",
            "Epoch 17/150\n",
            "104/104 [==============================] - 24s 228ms/step - loss: 0.6151 - accuracy: 0.8557 - val_loss: 0.8482 - val_accuracy: 0.7751\n",
            "Epoch 18/150\n",
            "104/104 [==============================] - 23s 218ms/step - loss: 0.5746 - accuracy: 0.8737 - val_loss: 0.6781 - val_accuracy: 0.8296\n",
            "Epoch 19/150\n",
            "104/104 [==============================] - 24s 230ms/step - loss: 0.5454 - accuracy: 0.8831 - val_loss: 0.6176 - val_accuracy: 0.8493\n",
            "Epoch 20/150\n",
            "104/104 [==============================] - 24s 228ms/step - loss: 0.5104 - accuracy: 0.8970 - val_loss: 0.6487 - val_accuracy: 0.8401\n",
            "Epoch 21/150\n",
            "104/104 [==============================] - 22s 215ms/step - loss: 0.4913 - accuracy: 0.9035 - val_loss: 0.6584 - val_accuracy: 0.8440\n",
            "Epoch 22/150\n",
            "104/104 [==============================] - 22s 216ms/step - loss: 0.4679 - accuracy: 0.9127 - val_loss: 0.6920 - val_accuracy: 0.8233\n",
            "Epoch 23/150\n",
            "104/104 [==============================] - 24s 228ms/step - loss: 0.4387 - accuracy: 0.9192 - val_loss: 0.8666 - val_accuracy: 0.7807\n",
            "Epoch 24/150\n",
            "104/104 [==============================] - 24s 230ms/step - loss: 0.4125 - accuracy: 0.9286 - val_loss: 0.6512 - val_accuracy: 0.8496\n",
            "Epoch 25/150\n",
            "104/104 [==============================] - 22s 215ms/step - loss: 0.3868 - accuracy: 0.9360 - val_loss: 0.9015 - val_accuracy: 0.7867\n",
            "Epoch 26/150\n",
            "104/104 [==============================] - 24s 228ms/step - loss: 0.3726 - accuracy: 0.9404 - val_loss: 1.0255 - val_accuracy: 0.7477\n",
            "Epoch 27/150\n",
            "104/104 [==============================] - 22s 216ms/step - loss: 0.3437 - accuracy: 0.9478 - val_loss: 0.7156 - val_accuracy: 0.8264\n",
            "Epoch 28/150\n",
            "104/104 [==============================] - 23s 217ms/step - loss: 0.3295 - accuracy: 0.9539 - val_loss: 0.5326 - val_accuracy: 0.8728\n",
            "Epoch 29/150\n",
            "104/104 [==============================] - 24s 227ms/step - loss: 0.3083 - accuracy: 0.9600 - val_loss: 0.6997 - val_accuracy: 0.8349\n",
            "Epoch 30/150\n",
            "104/104 [==============================] - 24s 228ms/step - loss: 0.3044 - accuracy: 0.9617 - val_loss: 0.9178 - val_accuracy: 0.7881\n",
            "Epoch 31/150\n",
            "104/104 [==============================] - 22s 215ms/step - loss: 0.2930 - accuracy: 0.9649 - val_loss: 0.6127 - val_accuracy: 0.8514\n",
            "Epoch 32/150\n",
            "104/104 [==============================] - 24s 228ms/step - loss: 0.2704 - accuracy: 0.9715 - val_loss: 0.6656 - val_accuracy: 0.8419\n",
            "Epoch 33/150\n",
            "104/104 [==============================] - 23s 217ms/step - loss: 0.2596 - accuracy: 0.9739 - val_loss: 0.5559 - val_accuracy: 0.8735\n",
            "Epoch 34/150\n",
            "104/104 [==============================] - 24s 229ms/step - loss: 0.2427 - accuracy: 0.9776 - val_loss: 0.5311 - val_accuracy: 0.8812\n",
            "Epoch 35/150\n",
            "104/104 [==============================] - 22s 216ms/step - loss: 0.2367 - accuracy: 0.9795 - val_loss: 0.6076 - val_accuracy: 0.8580\n",
            "Epoch 36/150\n",
            "104/104 [==============================] - 22s 216ms/step - loss: 0.2202 - accuracy: 0.9831 - val_loss: 0.5138 - val_accuracy: 0.8791\n",
            "Epoch 37/150\n",
            "104/104 [==============================] - 24s 230ms/step - loss: 0.2135 - accuracy: 0.9854 - val_loss: 0.4816 - val_accuracy: 0.8942\n",
            "Epoch 38/150\n",
            "104/104 [==============================] - 22s 215ms/step - loss: 0.2013 - accuracy: 0.9873 - val_loss: 0.4841 - val_accuracy: 0.8862\n",
            "Epoch 39/150\n",
            "104/104 [==============================] - 23s 217ms/step - loss: 0.1972 - accuracy: 0.9863 - val_loss: 0.4144 - val_accuracy: 0.9037\n",
            "Epoch 40/150\n",
            "104/104 [==============================] - 24s 228ms/step - loss: 0.1921 - accuracy: 0.9888 - val_loss: 0.4366 - val_accuracy: 0.9009\n",
            "Epoch 41/150\n",
            "104/104 [==============================] - 23s 218ms/step - loss: 0.1838 - accuracy: 0.9890 - val_loss: 0.3468 - val_accuracy: 0.9276\n",
            "Epoch 42/150\n",
            "104/104 [==============================] - 23s 217ms/step - loss: 0.1782 - accuracy: 0.9904 - val_loss: 0.3167 - val_accuracy: 0.9396\n",
            "Epoch 43/150\n",
            "104/104 [==============================] - 24s 228ms/step - loss: 0.1706 - accuracy: 0.9921 - val_loss: 0.3668 - val_accuracy: 0.9209\n",
            "Epoch 44/150\n",
            "104/104 [==============================] - 22s 215ms/step - loss: 0.1688 - accuracy: 0.9916 - val_loss: 0.3714 - val_accuracy: 0.9178\n",
            "Epoch 45/150\n",
            "104/104 [==============================] - 22s 215ms/step - loss: 0.1628 - accuracy: 0.9937 - val_loss: 0.3969 - val_accuracy: 0.9100\n",
            "Epoch 46/150\n",
            "104/104 [==============================] - 22s 216ms/step - loss: 0.1585 - accuracy: 0.9937 - val_loss: 0.3087 - val_accuracy: 0.9361\n",
            "Epoch 47/150\n",
            "104/104 [==============================] - 22s 215ms/step - loss: 0.1591 - accuracy: 0.9924 - val_loss: 0.3799 - val_accuracy: 0.9153\n",
            "Epoch 48/150\n",
            "104/104 [==============================] - 22s 215ms/step - loss: 0.1536 - accuracy: 0.9936 - val_loss: 0.3265 - val_accuracy: 0.9311\n",
            "Epoch 49/150\n",
            "104/104 [==============================] - 22s 216ms/step - loss: 0.1471 - accuracy: 0.9957 - val_loss: 0.3693 - val_accuracy: 0.9209\n",
            "Epoch 50/150\n",
            "104/104 [==============================] - 24s 227ms/step - loss: 0.1493 - accuracy: 0.9941 - val_loss: 0.3965 - val_accuracy: 0.9076\n",
            "Epoch 51/150\n",
            "104/104 [==============================] - 24s 228ms/step - loss: 0.1428 - accuracy: 0.9959 - val_loss: 0.3163 - val_accuracy: 0.9329\n",
            "Epoch 52/150\n",
            "104/104 [==============================] - 24s 228ms/step - loss: 0.1434 - accuracy: 0.9947 - val_loss: 0.4585 - val_accuracy: 0.8978\n",
            "Epoch 53/150\n",
            "104/104 [==============================] - 22s 216ms/step - loss: 0.1418 - accuracy: 0.9951 - val_loss: 0.2972 - val_accuracy: 0.9382\n",
            "Epoch 54/150\n",
            "104/104 [==============================] - 22s 216ms/step - loss: 0.1379 - accuracy: 0.9952 - val_loss: 0.3548 - val_accuracy: 0.9202\n",
            "Epoch 55/150\n",
            "104/104 [==============================] - 24s 228ms/step - loss: 0.1375 - accuracy: 0.9948 - val_loss: 0.3436 - val_accuracy: 0.9238\n",
            "Epoch 56/150\n",
            "104/104 [==============================] - 22s 215ms/step - loss: 0.1312 - accuracy: 0.9962 - val_loss: 0.3321 - val_accuracy: 0.9220\n",
            "Epoch 57/150\n",
            "104/104 [==============================] - 22s 215ms/step - loss: 0.1301 - accuracy: 0.9962 - val_loss: 0.3245 - val_accuracy: 0.9234\n",
            "Epoch 58/150\n",
            "104/104 [==============================] - 24s 228ms/step - loss: 0.1290 - accuracy: 0.9960 - val_loss: 0.3142 - val_accuracy: 0.9339\n",
            "Epoch 59/150\n",
            "104/104 [==============================] - 22s 215ms/step - loss: 0.1245 - accuracy: 0.9965 - val_loss: 0.3231 - val_accuracy: 0.9276\n",
            "Epoch 60/150\n",
            "104/104 [==============================] - 22s 216ms/step - loss: 0.1207 - accuracy: 0.9969 - val_loss: 0.3025 - val_accuracy: 0.9329\n",
            "Epoch 61/150\n",
            "104/104 [==============================] - 24s 228ms/step - loss: 0.1212 - accuracy: 0.9964 - val_loss: 0.2756 - val_accuracy: 0.9396\n",
            "Epoch 62/150\n",
            "104/104 [==============================] - 22s 215ms/step - loss: 0.1219 - accuracy: 0.9960 - val_loss: 0.3199 - val_accuracy: 0.9255\n",
            "Epoch 63/150\n",
            "104/104 [==============================] - 24s 227ms/step - loss: 0.1205 - accuracy: 0.9970 - val_loss: 0.3275 - val_accuracy: 0.9269\n",
            "Epoch 64/150\n",
            "104/104 [==============================] - 22s 216ms/step - loss: 0.1183 - accuracy: 0.9973 - val_loss: 0.3127 - val_accuracy: 0.9308\n",
            "Epoch 65/150\n",
            "104/104 [==============================] - 22s 215ms/step - loss: 0.1143 - accuracy: 0.9974 - val_loss: 0.2878 - val_accuracy: 0.9353\n",
            "Epoch 66/150\n",
            "104/104 [==============================] - 24s 227ms/step - loss: 0.1125 - accuracy: 0.9978 - val_loss: 0.2819 - val_accuracy: 0.9368\n",
            "Epoch 67/150\n",
            "104/104 [==============================] - 24s 228ms/step - loss: 0.1129 - accuracy: 0.9970 - val_loss: 0.3520 - val_accuracy: 0.9185\n",
            "Epoch 68/150\n",
            "104/104 [==============================] - 22s 216ms/step - loss: 0.1124 - accuracy: 0.9967 - val_loss: 0.3271 - val_accuracy: 0.9216\n",
            "Epoch 69/150\n",
            "104/104 [==============================] - 24s 227ms/step - loss: 0.1113 - accuracy: 0.9972 - val_loss: 0.3257 - val_accuracy: 0.9227\n",
            "Epoch 70/150\n",
            "104/104 [==============================] - 22s 215ms/step - loss: 0.1070 - accuracy: 0.9983 - val_loss: 0.3012 - val_accuracy: 0.9322\n",
            "Epoch 71/150\n",
            "104/104 [==============================] - 24s 228ms/step - loss: 0.1089 - accuracy: 0.9974 - val_loss: 0.2832 - val_accuracy: 0.9396\n",
            "Epoch 72/150\n",
            "104/104 [==============================] - 23s 217ms/step - loss: 0.1050 - accuracy: 0.9982 - val_loss: 0.2494 - val_accuracy: 0.9483\n",
            "Epoch 73/150\n",
            "104/104 [==============================] - 22s 216ms/step - loss: 0.1044 - accuracy: 0.9975 - val_loss: 0.3129 - val_accuracy: 0.9301\n",
            "Epoch 74/150\n",
            "104/104 [==============================] - 24s 229ms/step - loss: 0.1026 - accuracy: 0.9981 - val_loss: 0.2462 - val_accuracy: 0.9519\n",
            "Epoch 75/150\n",
            "104/104 [==============================] - 24s 227ms/step - loss: 0.1025 - accuracy: 0.9974 - val_loss: 0.3318 - val_accuracy: 0.9199\n",
            "Epoch 76/150\n",
            "104/104 [==============================] - 22s 215ms/step - loss: 0.1019 - accuracy: 0.9980 - val_loss: 0.2834 - val_accuracy: 0.9361\n",
            "Epoch 77/150\n",
            "104/104 [==============================] - 22s 216ms/step - loss: 0.1034 - accuracy: 0.9970 - val_loss: 0.2717 - val_accuracy: 0.9396\n",
            "Epoch 78/150\n",
            "104/104 [==============================] - 22s 215ms/step - loss: 0.1000 - accuracy: 0.9977 - val_loss: 0.3395 - val_accuracy: 0.9192\n",
            "Epoch 79/150\n",
            "104/104 [==============================] - 22s 215ms/step - loss: 0.1001 - accuracy: 0.9977 - val_loss: 0.2877 - val_accuracy: 0.9350\n",
            "Epoch 80/150\n",
            "104/104 [==============================] - 22s 216ms/step - loss: 0.0980 - accuracy: 0.9980 - val_loss: 0.2698 - val_accuracy: 0.9399\n",
            "Epoch 81/150\n",
            "104/104 [==============================] - 24s 227ms/step - loss: 0.0961 - accuracy: 0.9981 - val_loss: 0.2671 - val_accuracy: 0.9431\n",
            "Epoch 82/150\n",
            "104/104 [==============================] - 22s 215ms/step - loss: 0.0994 - accuracy: 0.9966 - val_loss: 0.2693 - val_accuracy: 0.9378\n",
            "Epoch 83/150\n",
            "104/104 [==============================] - 24s 228ms/step - loss: 0.0948 - accuracy: 0.9983 - val_loss: 0.2929 - val_accuracy: 0.9332\n",
            "Epoch 84/150\n",
            "104/104 [==============================] - 24s 228ms/step - loss: 0.0933 - accuracy: 0.9987 - val_loss: 0.2756 - val_accuracy: 0.9336\n",
            "Epoch 85/150\n",
            "104/104 [==============================] - 22s 216ms/step - loss: 0.0908 - accuracy: 0.9987 - val_loss: 0.2590 - val_accuracy: 0.9427\n",
            "Epoch 86/150\n",
            "104/104 [==============================] - 24s 228ms/step - loss: 0.0914 - accuracy: 0.9978 - val_loss: 0.2547 - val_accuracy: 0.9434\n",
            "Epoch 87/150\n",
            "104/104 [==============================] - 22s 216ms/step - loss: 0.0937 - accuracy: 0.9973 - val_loss: 0.2330 - val_accuracy: 0.9501\n",
            "Epoch 88/150\n",
            "104/104 [==============================] - 22s 215ms/step - loss: 0.0900 - accuracy: 0.9987 - val_loss: 0.2543 - val_accuracy: 0.9410\n",
            "Epoch 89/150\n",
            "104/104 [==============================] - 22s 215ms/step - loss: 0.0891 - accuracy: 0.9989 - val_loss: 0.2442 - val_accuracy: 0.9487\n",
            "Epoch 90/150\n",
            "104/104 [==============================] - 22s 216ms/step - loss: 0.0869 - accuracy: 0.9988 - val_loss: 0.2600 - val_accuracy: 0.9396\n",
            "Epoch 91/150\n",
            "104/104 [==============================] - 24s 228ms/step - loss: 0.0914 - accuracy: 0.9977 - val_loss: 0.2747 - val_accuracy: 0.9343\n",
            "Epoch 92/150\n",
            "104/104 [==============================] - 24s 227ms/step - loss: 0.0891 - accuracy: 0.9985 - val_loss: 0.2615 - val_accuracy: 0.9424\n",
            "Epoch 93/150\n",
            "104/104 [==============================] - 24s 228ms/step - loss: 0.0863 - accuracy: 0.9985 - val_loss: 0.2378 - val_accuracy: 0.9469\n",
            "Epoch 94/150\n",
            "104/104 [==============================] - 23s 217ms/step - loss: 0.0865 - accuracy: 0.9984 - val_loss: 0.2170 - val_accuracy: 0.9508\n",
            "Epoch 95/150\n",
            "104/104 [==============================] - 22s 215ms/step - loss: 0.0849 - accuracy: 0.9989 - val_loss: 0.2575 - val_accuracy: 0.9431\n",
            "Epoch 96/150\n",
            "104/104 [==============================] - 22s 216ms/step - loss: 0.0830 - accuracy: 0.9990 - val_loss: 0.2586 - val_accuracy: 0.9406\n",
            "Epoch 97/150\n",
            "104/104 [==============================] - 22s 215ms/step - loss: 0.0830 - accuracy: 0.9988 - val_loss: 0.2658 - val_accuracy: 0.9389\n",
            "Epoch 98/150\n",
            "104/104 [==============================] - 24s 227ms/step - loss: 0.0827 - accuracy: 0.9986 - val_loss: 0.2527 - val_accuracy: 0.9452\n",
            "Epoch 99/150\n",
            "104/104 [==============================] - 22s 215ms/step - loss: 0.0813 - accuracy: 0.9992 - val_loss: 0.2381 - val_accuracy: 0.9462\n",
            "Epoch 100/150\n",
            "104/104 [==============================] - 22s 216ms/step - loss: 0.0796 - accuracy: 0.9990 - val_loss: 0.2456 - val_accuracy: 0.9427\n",
            "Epoch 101/150\n",
            "104/104 [==============================] - 22s 216ms/step - loss: 0.0814 - accuracy: 0.9987 - val_loss: 0.2749 - val_accuracy: 0.9396\n",
            "Epoch 102/150\n",
            "104/104 [==============================] - 22s 215ms/step - loss: 0.0804 - accuracy: 0.9986 - val_loss: 0.2568 - val_accuracy: 0.9424\n",
            "Epoch 103/150\n",
            "104/104 [==============================] - 24s 228ms/step - loss: 0.0813 - accuracy: 0.9988 - val_loss: 0.2325 - val_accuracy: 0.9466\n",
            "Epoch 104/150\n",
            "104/104 [==============================] - 24s 228ms/step - loss: 0.0783 - accuracy: 0.9993 - val_loss: 0.2455 - val_accuracy: 0.9452\n",
            "Epoch 105/150\n",
            "104/104 [==============================] - 24s 228ms/step - loss: 0.0778 - accuracy: 0.9992 - val_loss: 0.3203 - val_accuracy: 0.9259\n",
            "Epoch 106/150\n",
            "104/104 [==============================] - 22s 215ms/step - loss: 0.0791 - accuracy: 0.9983 - val_loss: 0.2315 - val_accuracy: 0.9462\n",
            "Epoch 107/150\n",
            "104/104 [==============================] - 24s 228ms/step - loss: 0.0777 - accuracy: 0.9989 - val_loss: 0.2456 - val_accuracy: 0.9441\n",
            "Epoch 108/150\n",
            "104/104 [==============================] - 24s 228ms/step - loss: 0.0779 - accuracy: 0.9988 - val_loss: 0.2285 - val_accuracy: 0.9512\n",
            "Epoch 109/150\n",
            "104/104 [==============================] - 24s 230ms/step - loss: 0.0768 - accuracy: 0.9989 - val_loss: 0.2222 - val_accuracy: 0.9522\n",
            "Epoch 110/150\n",
            "104/104 [==============================] - 24s 227ms/step - loss: 0.0792 - accuracy: 0.9982 - val_loss: 0.2393 - val_accuracy: 0.9473\n",
            "Epoch 111/150\n",
            "104/104 [==============================] - 24s 228ms/step - loss: 0.0794 - accuracy: 0.9980 - val_loss: 0.2423 - val_accuracy: 0.9466\n",
            "Epoch 112/150\n",
            "104/104 [==============================] - 24s 229ms/step - loss: 0.0766 - accuracy: 0.9986 - val_loss: 0.2217 - val_accuracy: 0.9543\n",
            "Epoch 113/150\n",
            "104/104 [==============================] - 22s 216ms/step - loss: 0.0739 - accuracy: 0.9992 - val_loss: 0.2573 - val_accuracy: 0.9459\n",
            "Epoch 114/150\n",
            "104/104 [==============================] - 22s 215ms/step - loss: 0.0765 - accuracy: 0.9984 - val_loss: 0.2373 - val_accuracy: 0.9445\n"
          ]
        }
      ]
    },
    {
      "cell_type": "code",
      "execution_count": 8,
      "metadata": {
        "colab": {
          "base_uri": "https://localhost:8080/"
        },
        "id": "ptRgliI-Rvma",
        "outputId": "54d1ede8-929e-4317-ad67-368d07f3a82a"
      },
      "outputs": [
        {
          "output_type": "stream",
          "name": "stdout",
          "text": [
            "89/89 [==============================] - 3s 17ms/step - loss: 0.2151 - accuracy: 0.9515\n"
          ]
        },
        {
          "output_type": "execute_result",
          "data": {
            "text/plain": [
              "[0.21512193977832794, 0.9515109062194824]"
            ]
          },
          "metadata": {},
          "execution_count": 8
        }
      ],
      "source": [
        "# model.load_weights(checkpoint_filepath)\n",
        "\n",
        "# model.load_weights(\"my_checkpoints.Xception_v2_2.model.keras\")\n",
        "model.evaluate(X_test, y_test)\n"
      ]
    },
    {
      "cell_type": "code",
      "source": [
        "X_train_stft, X_test_stft, y_train_stft, y_test_stft = train_test_split(data_mfcc_stft, labels, train_size=0.7)\n",
        "\n",
        "X_test_stft, X_valid_stft, y_test_stft, y_valid_stft = train_test_split(X_test_stft, y_test_stft, train_size=0.5)\n",
        "\n",
        "logs = Path() / \"my_logs\" / \"run_\" / \"Xception_v2\"\n",
        "checkpoint_filepath = \"my_checkpoints.Xception_v2.model.keras\"\n",
        "\n",
        "early_stopping_cb = tf.keras.callbacks.EarlyStopping(patience=20, restore_best_weights=True)\n",
        "model_checkpoint_cb = tf.keras.callbacks.ModelCheckpoint(filepath=checkpoint_filepath, monitor='val_accuracy', save_best_only=True)\n",
        "tensorboard_cb = tf.keras.callbacks.TensorBoard(log_dir=logs)\n",
        "\n",
        "callbacks = [early_stopping_cb, model_checkpoint_cb, tensorboard_cb]\n",
        "\n",
        "# optimizer = tf.keras.optimizers.Nadam(learning_rate=0.001)\n",
        "optimizer = tf.keras.optimizers.SGD(learning_rate=0.01, momentum=0.9)\n",
        "model.compile(loss=\"sparse_categorical_crossentropy\", optimizer=optimizer, metrics=[\"accuracy\"])\n",
        "history2 = model.fit(X_train_stft, y_train_stft, validation_data=(X_valid_stft, y_valid_stft), epochs=150, batch_size=batch_size, callbacks=callbacks, shuffle=False)"
      ],
      "metadata": {
        "colab": {
          "base_uri": "https://localhost:8080/"
        },
        "id": "KfXOQSh5vfw4",
        "outputId": "734ac113-0d5d-4f9e-f5e4-2945c863cd9d"
      },
      "execution_count": 16,
      "outputs": [
        {
          "output_type": "stream",
          "name": "stdout",
          "text": [
            "Epoch 1/150\n",
            "104/104 [==============================] - 25s 223ms/step - loss: 1.0372 - accuracy: 0.6969 - val_loss: 1.3061 - val_accuracy: 0.6033\n",
            "Epoch 2/150\n",
            "104/104 [==============================] - 23s 220ms/step - loss: 0.7012 - accuracy: 0.8061 - val_loss: 0.8464 - val_accuracy: 0.7530\n",
            "Epoch 3/150\n",
            "104/104 [==============================] - 24s 229ms/step - loss: 0.5663 - accuracy: 0.8543 - val_loss: 0.6119 - val_accuracy: 0.8370\n",
            "Epoch 4/150\n",
            "104/104 [==============================] - 24s 227ms/step - loss: 0.4726 - accuracy: 0.8916 - val_loss: 0.9579 - val_accuracy: 0.7519\n",
            "Epoch 5/150\n",
            "104/104 [==============================] - 24s 227ms/step - loss: 0.4040 - accuracy: 0.9136 - val_loss: 0.8284 - val_accuracy: 0.7867\n",
            "Epoch 6/150\n",
            "104/104 [==============================] - 24s 230ms/step - loss: 0.3539 - accuracy: 0.9306 - val_loss: 0.4955 - val_accuracy: 0.8826\n",
            "Epoch 7/150\n",
            "104/104 [==============================] - 22s 215ms/step - loss: 0.3093 - accuracy: 0.9477 - val_loss: 0.5440 - val_accuracy: 0.8679\n",
            "Epoch 8/150\n",
            "104/104 [==============================] - 22s 215ms/step - loss: 0.2851 - accuracy: 0.9555 - val_loss: 0.5809 - val_accuracy: 0.8587\n",
            "Epoch 9/150\n",
            "104/104 [==============================] - 24s 227ms/step - loss: 0.2634 - accuracy: 0.9641 - val_loss: 0.6304 - val_accuracy: 0.8482\n",
            "Epoch 10/150\n",
            "104/104 [==============================] - 22s 216ms/step - loss: 0.2300 - accuracy: 0.9724 - val_loss: 0.4217 - val_accuracy: 0.9034\n",
            "Epoch 11/150\n",
            "104/104 [==============================] - 24s 227ms/step - loss: 0.2044 - accuracy: 0.9815 - val_loss: 0.4466 - val_accuracy: 0.9009\n",
            "Epoch 12/150\n",
            "104/104 [==============================] - 22s 215ms/step - loss: 0.1913 - accuracy: 0.9827 - val_loss: 0.4644 - val_accuracy: 0.8928\n",
            "Epoch 13/150\n",
            "104/104 [==============================] - 24s 229ms/step - loss: 0.1843 - accuracy: 0.9831 - val_loss: 0.3620 - val_accuracy: 0.9227\n",
            "Epoch 14/150\n",
            "104/104 [==============================] - 24s 227ms/step - loss: 0.1742 - accuracy: 0.9858 - val_loss: 0.4048 - val_accuracy: 0.9164\n",
            "Epoch 15/150\n",
            "104/104 [==============================] - 22s 216ms/step - loss: 0.1605 - accuracy: 0.9904 - val_loss: 0.3355 - val_accuracy: 0.9304\n",
            "Epoch 16/150\n",
            "104/104 [==============================] - 24s 229ms/step - loss: 0.1525 - accuracy: 0.9910 - val_loss: 0.2871 - val_accuracy: 0.9445\n",
            "Epoch 17/150\n",
            "104/104 [==============================] - 22s 215ms/step - loss: 0.1454 - accuracy: 0.9921 - val_loss: 0.3222 - val_accuracy: 0.9259\n",
            "Epoch 18/150\n",
            "104/104 [==============================] - 22s 215ms/step - loss: 0.1423 - accuracy: 0.9921 - val_loss: 0.3104 - val_accuracy: 0.9318\n",
            "Epoch 19/150\n",
            "104/104 [==============================] - 23s 217ms/step - loss: 0.1359 - accuracy: 0.9931 - val_loss: 0.2703 - val_accuracy: 0.9448\n",
            "Epoch 20/150\n",
            "104/104 [==============================] - 24s 227ms/step - loss: 0.1351 - accuracy: 0.9928 - val_loss: 0.2933 - val_accuracy: 0.9396\n",
            "Epoch 21/150\n",
            "104/104 [==============================] - 23s 217ms/step - loss: 0.1301 - accuracy: 0.9931 - val_loss: 0.2638 - val_accuracy: 0.9469\n",
            "Epoch 22/150\n",
            "104/104 [==============================] - 22s 215ms/step - loss: 0.1244 - accuracy: 0.9949 - val_loss: 0.2741 - val_accuracy: 0.9427\n",
            "Epoch 23/150\n",
            "104/104 [==============================] - 22s 215ms/step - loss: 0.1197 - accuracy: 0.9956 - val_loss: 0.2724 - val_accuracy: 0.9427\n",
            "Epoch 24/150\n",
            "104/104 [==============================] - 24s 227ms/step - loss: 0.1204 - accuracy: 0.9953 - val_loss: 0.2924 - val_accuracy: 0.9385\n",
            "Epoch 25/150\n",
            "104/104 [==============================] - 22s 215ms/step - loss: 0.1161 - accuracy: 0.9960 - val_loss: 0.2892 - val_accuracy: 0.9375\n",
            "Epoch 26/150\n",
            "104/104 [==============================] - 22s 215ms/step - loss: 0.1113 - accuracy: 0.9964 - val_loss: 0.3160 - val_accuracy: 0.9266\n",
            "Epoch 27/150\n",
            "104/104 [==============================] - 24s 227ms/step - loss: 0.1089 - accuracy: 0.9971 - val_loss: 0.2510 - val_accuracy: 0.9452\n",
            "Epoch 28/150\n",
            "104/104 [==============================] - 24s 229ms/step - loss: 0.1070 - accuracy: 0.9973 - val_loss: 0.2450 - val_accuracy: 0.9491\n",
            "Epoch 29/150\n",
            "104/104 [==============================] - 22s 215ms/step - loss: 0.1044 - accuracy: 0.9974 - val_loss: 0.2523 - val_accuracy: 0.9431\n",
            "Epoch 30/150\n",
            "104/104 [==============================] - 24s 227ms/step - loss: 0.1048 - accuracy: 0.9968 - val_loss: 0.3155 - val_accuracy: 0.9283\n",
            "Epoch 31/150\n",
            "104/104 [==============================] - 22s 215ms/step - loss: 0.1032 - accuracy: 0.9974 - val_loss: 0.2550 - val_accuracy: 0.9417\n",
            "Epoch 32/150\n",
            "104/104 [==============================] - 24s 227ms/step - loss: 0.0994 - accuracy: 0.9980 - val_loss: 0.2759 - val_accuracy: 0.9361\n",
            "Epoch 33/150\n",
            "104/104 [==============================] - 22s 215ms/step - loss: 0.0973 - accuracy: 0.9975 - val_loss: 0.2387 - val_accuracy: 0.9473\n",
            "Epoch 34/150\n",
            "104/104 [==============================] - 22s 215ms/step - loss: 0.0958 - accuracy: 0.9982 - val_loss: 0.2839 - val_accuracy: 0.9325\n",
            "Epoch 35/150\n",
            "104/104 [==============================] - 24s 227ms/step - loss: 0.0956 - accuracy: 0.9984 - val_loss: 0.2416 - val_accuracy: 0.9417\n",
            "Epoch 36/150\n",
            "104/104 [==============================] - 24s 227ms/step - loss: 0.0934 - accuracy: 0.9981 - val_loss: 0.2803 - val_accuracy: 0.9375\n",
            "Epoch 37/150\n",
            "104/104 [==============================] - 24s 227ms/step - loss: 0.0925 - accuracy: 0.9983 - val_loss: 0.2488 - val_accuracy: 0.9427\n",
            "Epoch 38/150\n",
            "104/104 [==============================] - 24s 227ms/step - loss: 0.0912 - accuracy: 0.9982 - val_loss: 0.2321 - val_accuracy: 0.9469\n",
            "Epoch 39/150\n",
            "104/104 [==============================] - 24s 229ms/step - loss: 0.0889 - accuracy: 0.9989 - val_loss: 0.2252 - val_accuracy: 0.9522\n",
            "Epoch 40/150\n",
            "104/104 [==============================] - 24s 227ms/step - loss: 0.0871 - accuracy: 0.9987 - val_loss: 0.2557 - val_accuracy: 0.9385\n",
            "Epoch 41/150\n",
            "104/104 [==============================] - 24s 227ms/step - loss: 0.0882 - accuracy: 0.9989 - val_loss: 0.2266 - val_accuracy: 0.9515\n",
            "Epoch 42/150\n",
            "104/104 [==============================] - 22s 215ms/step - loss: 0.0886 - accuracy: 0.9984 - val_loss: 0.2247 - val_accuracy: 0.9522\n",
            "Epoch 43/150\n",
            "104/104 [==============================] - 24s 227ms/step - loss: 0.0855 - accuracy: 0.9992 - val_loss: 0.2213 - val_accuracy: 0.9505\n",
            "Epoch 44/150\n",
            "104/104 [==============================] - 24s 227ms/step - loss: 0.0829 - accuracy: 0.9991 - val_loss: 0.2533 - val_accuracy: 0.9371\n",
            "Epoch 45/150\n",
            "104/104 [==============================] - 24s 227ms/step - loss: 0.0828 - accuracy: 0.9992 - val_loss: 0.2431 - val_accuracy: 0.9427\n",
            "Epoch 46/150\n",
            "104/104 [==============================] - 24s 228ms/step - loss: 0.0840 - accuracy: 0.9984 - val_loss: 0.2334 - val_accuracy: 0.9480\n",
            "Epoch 47/150\n",
            "104/104 [==============================] - 24s 227ms/step - loss: 0.0826 - accuracy: 0.9989 - val_loss: 0.2548 - val_accuracy: 0.9403\n",
            "Epoch 48/150\n",
            "104/104 [==============================] - 22s 215ms/step - loss: 0.0814 - accuracy: 0.9987 - val_loss: 0.2265 - val_accuracy: 0.9480\n",
            "Epoch 49/150\n",
            "104/104 [==============================] - 23s 217ms/step - loss: 0.0824 - accuracy: 0.9986 - val_loss: 0.2120 - val_accuracy: 0.9529\n",
            "Epoch 50/150\n",
            "104/104 [==============================] - 24s 228ms/step - loss: 0.0815 - accuracy: 0.9986 - val_loss: 0.2323 - val_accuracy: 0.9501\n",
            "Epoch 51/150\n",
            "104/104 [==============================] - 23s 217ms/step - loss: 0.0793 - accuracy: 0.9992 - val_loss: 0.2047 - val_accuracy: 0.9533\n",
            "Epoch 52/150\n",
            "104/104 [==============================] - 24s 227ms/step - loss: 0.0812 - accuracy: 0.9984 - val_loss: 0.2250 - val_accuracy: 0.9483\n",
            "Epoch 53/150\n",
            "104/104 [==============================] - 24s 227ms/step - loss: 0.0796 - accuracy: 0.9988 - val_loss: 0.2099 - val_accuracy: 0.9529\n",
            "Epoch 54/150\n",
            "104/104 [==============================] - 22s 215ms/step - loss: 0.0781 - accuracy: 0.9989 - val_loss: 0.2226 - val_accuracy: 0.9515\n",
            "Epoch 55/150\n",
            "104/104 [==============================] - 22s 215ms/step - loss: 0.0805 - accuracy: 0.9979 - val_loss: 0.2506 - val_accuracy: 0.9396\n",
            "Epoch 56/150\n",
            "104/104 [==============================] - 24s 227ms/step - loss: 0.0770 - accuracy: 0.9991 - val_loss: 0.2231 - val_accuracy: 0.9483\n",
            "Epoch 57/150\n",
            "104/104 [==============================] - 22s 215ms/step - loss: 0.0751 - accuracy: 0.9993 - val_loss: 0.2286 - val_accuracy: 0.9491\n",
            "Epoch 58/150\n",
            "104/104 [==============================] - 24s 227ms/step - loss: 0.0750 - accuracy: 0.9992 - val_loss: 0.2209 - val_accuracy: 0.9473\n",
            "Epoch 59/150\n",
            "104/104 [==============================] - 24s 227ms/step - loss: 0.0741 - accuracy: 0.9995 - val_loss: 0.2241 - val_accuracy: 0.9473\n",
            "Epoch 60/150\n",
            "104/104 [==============================] - 22s 216ms/step - loss: 0.0726 - accuracy: 0.9995 - val_loss: 0.1930 - val_accuracy: 0.9610\n",
            "Epoch 61/150\n",
            "104/104 [==============================] - 22s 215ms/step - loss: 0.0714 - accuracy: 0.9995 - val_loss: 0.2244 - val_accuracy: 0.9462\n",
            "Epoch 62/150\n",
            "104/104 [==============================] - 22s 216ms/step - loss: 0.0713 - accuracy: 0.9995 - val_loss: 0.2062 - val_accuracy: 0.9533\n",
            "Epoch 63/150\n",
            "104/104 [==============================] - 24s 227ms/step - loss: 0.0720 - accuracy: 0.9993 - val_loss: 0.2313 - val_accuracy: 0.9473\n",
            "Epoch 64/150\n",
            "104/104 [==============================] - 24s 227ms/step - loss: 0.0719 - accuracy: 0.9993 - val_loss: 0.2125 - val_accuracy: 0.9533\n",
            "Epoch 65/150\n",
            "104/104 [==============================] - 22s 215ms/step - loss: 0.0720 - accuracy: 0.9991 - val_loss: 0.2157 - val_accuracy: 0.9540\n",
            "Epoch 66/150\n",
            "104/104 [==============================] - 22s 215ms/step - loss: 0.0698 - accuracy: 0.9995 - val_loss: 0.1956 - val_accuracy: 0.9550\n",
            "Epoch 67/150\n",
            "104/104 [==============================] - 22s 215ms/step - loss: 0.0707 - accuracy: 0.9992 - val_loss: 0.2360 - val_accuracy: 0.9448\n",
            "Epoch 68/150\n",
            "104/104 [==============================] - 22s 215ms/step - loss: 0.0696 - accuracy: 0.9992 - val_loss: 0.2003 - val_accuracy: 0.9543\n",
            "Epoch 69/150\n",
            "104/104 [==============================] - 24s 227ms/step - loss: 0.0713 - accuracy: 0.9990 - val_loss: 0.2081 - val_accuracy: 0.9543\n",
            "Epoch 70/150\n",
            "104/104 [==============================] - 24s 227ms/step - loss: 0.0688 - accuracy: 0.9992 - val_loss: 0.1993 - val_accuracy: 0.9568\n",
            "Epoch 71/150\n",
            "104/104 [==============================] - 24s 227ms/step - loss: 0.0682 - accuracy: 0.9992 - val_loss: 0.1971 - val_accuracy: 0.9536\n",
            "Epoch 72/150\n",
            "104/104 [==============================] - 22s 215ms/step - loss: 0.0672 - accuracy: 0.9995 - val_loss: 0.1932 - val_accuracy: 0.9561\n",
            "Epoch 73/150\n",
            "104/104 [==============================] - 24s 227ms/step - loss: 0.0674 - accuracy: 0.9995 - val_loss: 0.2047 - val_accuracy: 0.9515\n",
            "Epoch 74/150\n",
            "104/104 [==============================] - 24s 227ms/step - loss: 0.0665 - accuracy: 0.9994 - val_loss: 0.2017 - val_accuracy: 0.9543\n",
            "Epoch 75/150\n",
            "104/104 [==============================] - 22s 215ms/step - loss: 0.0663 - accuracy: 0.9995 - val_loss: 0.2603 - val_accuracy: 0.9368\n",
            "Epoch 76/150\n",
            "104/104 [==============================] - 24s 227ms/step - loss: 0.0662 - accuracy: 0.9994 - val_loss: 0.2266 - val_accuracy: 0.9469\n",
            "Epoch 77/150\n",
            "104/104 [==============================] - 24s 227ms/step - loss: 0.0711 - accuracy: 0.9979 - val_loss: 0.2462 - val_accuracy: 0.9371\n",
            "Epoch 78/150\n",
            "104/104 [==============================] - 24s 227ms/step - loss: 0.0692 - accuracy: 0.9989 - val_loss: 0.2363 - val_accuracy: 0.9406\n",
            "Epoch 79/150\n",
            "104/104 [==============================] - 24s 227ms/step - loss: 0.0655 - accuracy: 0.9995 - val_loss: 0.1946 - val_accuracy: 0.9564\n",
            "Epoch 80/150\n",
            "104/104 [==============================] - 22s 215ms/step - loss: 0.0660 - accuracy: 0.9993 - val_loss: 0.2088 - val_accuracy: 0.9547\n"
          ]
        }
      ]
    },
    {
      "cell_type": "code",
      "execution_count": null,
      "metadata": {
        "id": "cZrKT0t9AaDU"
      },
      "outputs": [],
      "source": [
        "%load_ext tensorboard\n",
        "%tensorboard --logdir=./my_logs"
      ]
    },
    {
      "cell_type": "code",
      "execution_count": null,
      "metadata": {
        "id": "xsVFLn6d1rN2",
        "colab": {
          "base_uri": "https://localhost:8080/",
          "height": 408
        },
        "outputId": "a462bf19-3d18-48bc-867c-9032b2225dcb"
      },
      "outputs": [
        {
          "output_type": "error",
          "ename": "FileNotFoundError",
          "evalue": "[Errno 2] Unable to open file (unable to open file: name = 'my_checkpoints.Xception_v2_2.model.keras', errno = 2, error message = 'No such file or directory', flags = 0, o_flags = 0)",
          "traceback": [
            "\u001b[0;31m---------------------------------------------------------------------------\u001b[0m",
            "\u001b[0;31mFileNotFoundError\u001b[0m                         Traceback (most recent call last)",
            "\u001b[0;32m<ipython-input-26-0b613d2010f0>\u001b[0m in \u001b[0;36m<cell line: 1>\u001b[0;34m()\u001b[0m\n\u001b[0;32m----> 1\u001b[0;31m \u001b[0mmodel\u001b[0m\u001b[0;34m.\u001b[0m\u001b[0mload_weights\u001b[0m\u001b[0;34m(\u001b[0m\u001b[0;34m\"my_checkpoints.Xception_v2_2.model.keras\"\u001b[0m\u001b[0;34m)\u001b[0m\u001b[0;34m\u001b[0m\u001b[0;34m\u001b[0m\u001b[0m\n\u001b[0m",
            "\u001b[0;32m/usr/local/lib/python3.10/dist-packages/keras/src/utils/traceback_utils.py\u001b[0m in \u001b[0;36merror_handler\u001b[0;34m(*args, **kwargs)\u001b[0m\n\u001b[1;32m     68\u001b[0m             \u001b[0;31m# To get the full stack trace, call:\u001b[0m\u001b[0;34m\u001b[0m\u001b[0;34m\u001b[0m\u001b[0m\n\u001b[1;32m     69\u001b[0m             \u001b[0;31m# `tf.debugging.disable_traceback_filtering()`\u001b[0m\u001b[0;34m\u001b[0m\u001b[0;34m\u001b[0m\u001b[0m\n\u001b[0;32m---> 70\u001b[0;31m             \u001b[0;32mraise\u001b[0m \u001b[0me\u001b[0m\u001b[0;34m.\u001b[0m\u001b[0mwith_traceback\u001b[0m\u001b[0;34m(\u001b[0m\u001b[0mfiltered_tb\u001b[0m\u001b[0;34m)\u001b[0m \u001b[0;32mfrom\u001b[0m \u001b[0;32mNone\u001b[0m\u001b[0;34m\u001b[0m\u001b[0;34m\u001b[0m\u001b[0m\n\u001b[0m\u001b[1;32m     71\u001b[0m         \u001b[0;32mfinally\u001b[0m\u001b[0;34m:\u001b[0m\u001b[0;34m\u001b[0m\u001b[0;34m\u001b[0m\u001b[0m\n\u001b[1;32m     72\u001b[0m             \u001b[0;32mdel\u001b[0m \u001b[0mfiltered_tb\u001b[0m\u001b[0;34m\u001b[0m\u001b[0;34m\u001b[0m\u001b[0m\n",
            "\u001b[0;32m/usr/local/lib/python3.10/dist-packages/h5py/_hl/files.py\u001b[0m in \u001b[0;36m__init__\u001b[0;34m(self, name, mode, driver, libver, userblock_size, swmr, rdcc_nslots, rdcc_nbytes, rdcc_w0, track_order, fs_strategy, fs_persist, fs_threshold, fs_page_size, page_buf_size, min_meta_keep, min_raw_keep, locking, alignment_threshold, alignment_interval, meta_block_size, **kwds)\u001b[0m\n\u001b[1;32m    565\u001b[0m                                  \u001b[0mfs_persist\u001b[0m\u001b[0;34m=\u001b[0m\u001b[0mfs_persist\u001b[0m\u001b[0;34m,\u001b[0m \u001b[0mfs_threshold\u001b[0m\u001b[0;34m=\u001b[0m\u001b[0mfs_threshold\u001b[0m\u001b[0;34m,\u001b[0m\u001b[0;34m\u001b[0m\u001b[0;34m\u001b[0m\u001b[0m\n\u001b[1;32m    566\u001b[0m                                  fs_page_size=fs_page_size)\n\u001b[0;32m--> 567\u001b[0;31m                 \u001b[0mfid\u001b[0m \u001b[0;34m=\u001b[0m \u001b[0mmake_fid\u001b[0m\u001b[0;34m(\u001b[0m\u001b[0mname\u001b[0m\u001b[0;34m,\u001b[0m \u001b[0mmode\u001b[0m\u001b[0;34m,\u001b[0m \u001b[0muserblock_size\u001b[0m\u001b[0;34m,\u001b[0m \u001b[0mfapl\u001b[0m\u001b[0;34m,\u001b[0m \u001b[0mfcpl\u001b[0m\u001b[0;34m,\u001b[0m \u001b[0mswmr\u001b[0m\u001b[0;34m=\u001b[0m\u001b[0mswmr\u001b[0m\u001b[0;34m)\u001b[0m\u001b[0;34m\u001b[0m\u001b[0;34m\u001b[0m\u001b[0m\n\u001b[0m\u001b[1;32m    568\u001b[0m \u001b[0;34m\u001b[0m\u001b[0m\n\u001b[1;32m    569\u001b[0m             \u001b[0;32mif\u001b[0m \u001b[0misinstance\u001b[0m\u001b[0;34m(\u001b[0m\u001b[0mlibver\u001b[0m\u001b[0;34m,\u001b[0m \u001b[0mtuple\u001b[0m\u001b[0;34m)\u001b[0m\u001b[0;34m:\u001b[0m\u001b[0;34m\u001b[0m\u001b[0;34m\u001b[0m\u001b[0m\n",
            "\u001b[0;32m/usr/local/lib/python3.10/dist-packages/h5py/_hl/files.py\u001b[0m in \u001b[0;36mmake_fid\u001b[0;34m(name, mode, userblock_size, fapl, fcpl, swmr)\u001b[0m\n\u001b[1;32m    229\u001b[0m         \u001b[0;32mif\u001b[0m \u001b[0mswmr\u001b[0m \u001b[0;32mand\u001b[0m \u001b[0mswmr_support\u001b[0m\u001b[0;34m:\u001b[0m\u001b[0;34m\u001b[0m\u001b[0;34m\u001b[0m\u001b[0m\n\u001b[1;32m    230\u001b[0m             \u001b[0mflags\u001b[0m \u001b[0;34m|=\u001b[0m \u001b[0mh5f\u001b[0m\u001b[0;34m.\u001b[0m\u001b[0mACC_SWMR_READ\u001b[0m\u001b[0;34m\u001b[0m\u001b[0;34m\u001b[0m\u001b[0m\n\u001b[0;32m--> 231\u001b[0;31m         \u001b[0mfid\u001b[0m \u001b[0;34m=\u001b[0m \u001b[0mh5f\u001b[0m\u001b[0;34m.\u001b[0m\u001b[0mopen\u001b[0m\u001b[0;34m(\u001b[0m\u001b[0mname\u001b[0m\u001b[0;34m,\u001b[0m \u001b[0mflags\u001b[0m\u001b[0;34m,\u001b[0m \u001b[0mfapl\u001b[0m\u001b[0;34m=\u001b[0m\u001b[0mfapl\u001b[0m\u001b[0;34m)\u001b[0m\u001b[0;34m\u001b[0m\u001b[0;34m\u001b[0m\u001b[0m\n\u001b[0m\u001b[1;32m    232\u001b[0m     \u001b[0;32melif\u001b[0m \u001b[0mmode\u001b[0m \u001b[0;34m==\u001b[0m \u001b[0;34m'r+'\u001b[0m\u001b[0;34m:\u001b[0m\u001b[0;34m\u001b[0m\u001b[0;34m\u001b[0m\u001b[0m\n\u001b[1;32m    233\u001b[0m         \u001b[0mfid\u001b[0m \u001b[0;34m=\u001b[0m \u001b[0mh5f\u001b[0m\u001b[0;34m.\u001b[0m\u001b[0mopen\u001b[0m\u001b[0;34m(\u001b[0m\u001b[0mname\u001b[0m\u001b[0;34m,\u001b[0m \u001b[0mh5f\u001b[0m\u001b[0;34m.\u001b[0m\u001b[0mACC_RDWR\u001b[0m\u001b[0;34m,\u001b[0m \u001b[0mfapl\u001b[0m\u001b[0;34m=\u001b[0m\u001b[0mfapl\u001b[0m\u001b[0;34m)\u001b[0m\u001b[0;34m\u001b[0m\u001b[0;34m\u001b[0m\u001b[0m\n",
            "\u001b[0;32mh5py/_objects.pyx\u001b[0m in \u001b[0;36mh5py._objects.with_phil.wrapper\u001b[0;34m()\u001b[0m\n",
            "\u001b[0;32mh5py/_objects.pyx\u001b[0m in \u001b[0;36mh5py._objects.with_phil.wrapper\u001b[0;34m()\u001b[0m\n",
            "\u001b[0;32mh5py/h5f.pyx\u001b[0m in \u001b[0;36mh5py.h5f.open\u001b[0;34m()\u001b[0m\n",
            "\u001b[0;31mFileNotFoundError\u001b[0m: [Errno 2] Unable to open file (unable to open file: name = 'my_checkpoints.Xception_v2_2.model.keras', errno = 2, error message = 'No such file or directory', flags = 0, o_flags = 0)"
          ]
        }
      ],
      "source": [
        "model.load_weights(\"my_checkpoints.Xception_v2_2.model.keras\")"
      ]
    },
    {
      "cell_type": "code",
      "execution_count": 18,
      "metadata": {
        "colab": {
          "base_uri": "https://localhost:8080/"
        },
        "id": "xEca2ynJ11Qa",
        "outputId": "1ced976f-54ea-4edb-d730-ea1e025b8dcd"
      },
      "outputs": [
        {
          "output_type": "stream",
          "name": "stdout",
          "text": [
            "89/89 [==============================] - 1s 16ms/step - loss: 0.1885 - accuracy: 0.9599\n"
          ]
        },
        {
          "output_type": "execute_result",
          "data": {
            "text/plain": [
              "[0.18853585422039032, 0.9599437713623047]"
            ]
          },
          "metadata": {},
          "execution_count": 18
        }
      ],
      "source": [
        "model.evaluate(X_test_stft, y_test_stft)"
      ]
    },
    {
      "cell_type": "code",
      "execution_count": null,
      "metadata": {
        "id": "WGJylDahAnBP"
      },
      "outputs": [],
      "source": [
        "# model.save_weights(\"my_model/Inception_82.ckpt\")"
      ]
    },
    {
      "cell_type": "code",
      "execution_count": 19,
      "metadata": {
        "id": "p4K16vKlBNKe"
      },
      "outputs": [],
      "source": [
        "model.save('saved_model/wlasne2_stft')"
      ]
    },
    {
      "cell_type": "code",
      "execution_count": 21,
      "metadata": {
        "colab": {
          "base_uri": "https://localhost:8080/"
        },
        "id": "8P64Ua7EBr88",
        "outputId": "f5825d9a-cf13-42ee-9dd8-d7a816b0a698"
      },
      "outputs": [
        {
          "output_type": "stream",
          "name": "stdout",
          "text": [
            "updating: saved_model/ (stored 0%)\n",
            "updating: saved_model/wlasne2/ (stored 0%)\n",
            "updating: saved_model/wlasne2/variables/ (stored 0%)\n",
            "updating: saved_model/wlasne2/variables/variables.data-00000-of-00001 (deflated 7%)\n",
            "updating: saved_model/wlasne2/variables/variables.index (deflated 68%)\n",
            "updating: saved_model/wlasne2/assets/ (stored 0%)\n",
            "updating: saved_model/wlasne2/saved_model.pb (deflated 89%)\n",
            "updating: saved_model/wlasne2/fingerprint.pb (stored 0%)\n",
            "updating: saved_model/wlasne2/keras_metadata.pb (deflated 93%)\n",
            "updating: saved_model/wlasne2_stft/ (stored 0%)\n",
            "updating: saved_model/wlasne2_stft/variables/ (stored 0%)\n",
            "updating: saved_model/wlasne2_stft/variables/variables.data-00000-of-00001 (deflated 7%)\n",
            "updating: saved_model/wlasne2_stft/variables/variables.index (deflated 68%)\n",
            "updating: saved_model/wlasne2_stft/assets/ (stored 0%)\n",
            "updating: saved_model/wlasne2_stft/saved_model.pb (deflated 89%)\n",
            "updating: saved_model/wlasne2_stft/fingerprint.pb (stored 0%)\n",
            "updating: saved_model/wlasne2_stft/keras_metadata.pb (deflated 93%)\n"
          ]
        }
      ],
      "source": [
        "!zip -r /models.zip saved_model/"
      ]
    },
    {
      "cell_type": "code",
      "execution_count": 23,
      "metadata": {
        "colab": {
          "base_uri": "https://localhost:8080/",
          "height": 17
        },
        "id": "4s3S4EHJB0hE",
        "outputId": "bef0d591-1978-495a-e92b-86f33d2a2401"
      },
      "outputs": [
        {
          "output_type": "display_data",
          "data": {
            "text/plain": [
              "<IPython.core.display.Javascript object>"
            ],
            "application/javascript": [
              "\n",
              "    async function download(id, filename, size) {\n",
              "      if (!google.colab.kernel.accessAllowed) {\n",
              "        return;\n",
              "      }\n",
              "      const div = document.createElement('div');\n",
              "      const label = document.createElement('label');\n",
              "      label.textContent = `Downloading \"${filename}\": `;\n",
              "      div.appendChild(label);\n",
              "      const progress = document.createElement('progress');\n",
              "      progress.max = size;\n",
              "      div.appendChild(progress);\n",
              "      document.body.appendChild(div);\n",
              "\n",
              "      const buffers = [];\n",
              "      let downloaded = 0;\n",
              "\n",
              "      const channel = await google.colab.kernel.comms.open(id);\n",
              "      // Send a message to notify the kernel that we're ready.\n",
              "      channel.send({})\n",
              "\n",
              "      for await (const message of channel.messages) {\n",
              "        // Send a message to notify the kernel that we're ready.\n",
              "        channel.send({})\n",
              "        if (message.buffers) {\n",
              "          for (const buffer of message.buffers) {\n",
              "            buffers.push(buffer);\n",
              "            downloaded += buffer.byteLength;\n",
              "            progress.value = downloaded;\n",
              "          }\n",
              "        }\n",
              "      }\n",
              "      const blob = new Blob(buffers, {type: 'application/binary'});\n",
              "      const a = document.createElement('a');\n",
              "      a.href = window.URL.createObjectURL(blob);\n",
              "      a.download = filename;\n",
              "      div.appendChild(a);\n",
              "      a.click();\n",
              "      div.remove();\n",
              "    }\n",
              "  "
            ]
          },
          "metadata": {}
        },
        {
          "output_type": "display_data",
          "data": {
            "text/plain": [
              "<IPython.core.display.Javascript object>"
            ],
            "application/javascript": [
              "download(\"download_9ac1f58a-faaf-4376-8f4e-20341dab0e58\", \"models.zip\", 51316023)"
            ]
          },
          "metadata": {}
        }
      ],
      "source": [
        "from google.colab import files\n",
        "files.download(\"/models.zip\")"
      ]
    },
    {
      "cell_type": "code",
      "execution_count": 24,
      "metadata": {
        "colab": {
          "base_uri": "https://localhost:8080/"
        },
        "id": "ZOsThjKyYBXm",
        "outputId": "49b8befe-d90e-496d-d1f4-a2381a2c3a59"
      },
      "outputs": [
        {
          "output_type": "stream",
          "name": "stdout",
          "text": [
            "\tzip warning: name not matched: my_logs/run_/20240512_095805\n",
            "\tzip warning: name not matched: my_logs/run_/Xception_v2_2\n",
            "updating: my_logs/run_/Xception_v2/ (stored 0%)\n",
            "updating: my_logs/run_/Xception_v2/train/ (stored 0%)\n",
            "updating: my_logs/run_/Xception_v2/train/events.out.tfevents.1716062473.8878e9d2172a.290.0.v2 (deflated 89%)\n",
            "updating: my_logs/run_/Xception_v2/validation/ (stored 0%)\n",
            "updating: my_logs/run_/Xception_v2/validation/events.out.tfevents.1716062516.8878e9d2172a.290.1.v2 (deflated 78%)\n",
            "  adding: my_logs/run_/Xception_v2/train/events.out.tfevents.1716065709.8878e9d2172a.290.2.v2 (deflated 89%)\n",
            "  adding: my_logs/run_/Xception_v2/validation/events.out.tfevents.1716065732.8878e9d2172a.290.3.v2 (deflated 79%)\n"
          ]
        }
      ],
      "source": [
        "!zip -r /model_logs.zip my_logs/run_/20240512_095805 my_logs/run_/Xception_v2/ my_logs/run_/Xception_v2_2"
      ]
    },
    {
      "cell_type": "code",
      "execution_count": 25,
      "metadata": {
        "colab": {
          "base_uri": "https://localhost:8080/",
          "height": 17
        },
        "id": "ce2hdhLyYJuT",
        "outputId": "8b794799-583e-452b-d6df-d8005203641b"
      },
      "outputs": [
        {
          "output_type": "display_data",
          "data": {
            "text/plain": [
              "<IPython.core.display.Javascript object>"
            ],
            "application/javascript": [
              "\n",
              "    async function download(id, filename, size) {\n",
              "      if (!google.colab.kernel.accessAllowed) {\n",
              "        return;\n",
              "      }\n",
              "      const div = document.createElement('div');\n",
              "      const label = document.createElement('label');\n",
              "      label.textContent = `Downloading \"${filename}\": `;\n",
              "      div.appendChild(label);\n",
              "      const progress = document.createElement('progress');\n",
              "      progress.max = size;\n",
              "      div.appendChild(progress);\n",
              "      document.body.appendChild(div);\n",
              "\n",
              "      const buffers = [];\n",
              "      let downloaded = 0;\n",
              "\n",
              "      const channel = await google.colab.kernel.comms.open(id);\n",
              "      // Send a message to notify the kernel that we're ready.\n",
              "      channel.send({})\n",
              "\n",
              "      for await (const message of channel.messages) {\n",
              "        // Send a message to notify the kernel that we're ready.\n",
              "        channel.send({})\n",
              "        if (message.buffers) {\n",
              "          for (const buffer of message.buffers) {\n",
              "            buffers.push(buffer);\n",
              "            downloaded += buffer.byteLength;\n",
              "            progress.value = downloaded;\n",
              "          }\n",
              "        }\n",
              "      }\n",
              "      const blob = new Blob(buffers, {type: 'application/binary'});\n",
              "      const a = document.createElement('a');\n",
              "      a.href = window.URL.createObjectURL(blob);\n",
              "      a.download = filename;\n",
              "      div.appendChild(a);\n",
              "      a.click();\n",
              "      div.remove();\n",
              "    }\n",
              "  "
            ]
          },
          "metadata": {}
        },
        {
          "output_type": "display_data",
          "data": {
            "text/plain": [
              "<IPython.core.display.Javascript object>"
            ],
            "application/javascript": [
              "download(\"download_bec71a87-4f9a-4737-abd1-f273732fc302\", \"model_logs.zip\", 48945)"
            ]
          },
          "metadata": {}
        }
      ],
      "source": [
        "from google.colab import files\n",
        "files.download(\"/model_logs.zip\")"
      ]
    },
    {
      "cell_type": "code",
      "source": [
        "import pickle\n",
        "model.save('my_model_stft.h5')\n",
        "with open('training_history.pkl', 'wb') as file:\n",
        "    pickle.dump(history.history, file)"
      ],
      "metadata": {
        "colab": {
          "base_uri": "https://localhost:8080/"
        },
        "id": "-m14n9pSebl8",
        "outputId": "0dc753b5-e570-43bd-e44b-987b80b054a7"
      },
      "execution_count": 26,
      "outputs": [
        {
          "output_type": "stream",
          "name": "stderr",
          "text": [
            "/usr/local/lib/python3.10/dist-packages/keras/src/engine/training.py:3103: UserWarning: You are saving your model as an HDF5 file via `model.save()`. This file format is considered legacy. We recommend using instead the native Keras format, e.g. `model.save('my_model.keras')`.\n",
            "  saving_api.save_model(\n"
          ]
        }
      ]
    },
    {
      "cell_type": "code",
      "source": [
        "import keras\n",
        "import numpy as np\n",
        "from matplotlib import pyplot as plt\n",
        "from sklearn.metrics import f1_score , accuracy_score\n",
        "import keras\n",
        "\n",
        "\n",
        "model = keras.saving.load_model('my_model_stft.h5')\n",
        "pred = model.predict(X_valid_stft)\n",
        "preds = []\n",
        "for i in pred:\n",
        "    out = np.argmax(i)\n",
        "    preds.append(out)\n",
        "f1score = f1_score(y_valid_stft,preds,average='micro')\n",
        "accuracy = accuracy_score(y_valid_stft,preds)\n",
        "\n",
        "print(f\"The Test Accuracy is {accuracy} \\n The F1 Score is {f1score}\")\n",
        "from sklearn.metrics import confusion_matrix\n",
        "cm = confusion_matrix(y_valid_stft,preds)\n",
        "plt.imshow(cm, interpolation='nearest', cmap=plt.cm.Blues)\n",
        "plt.title('Confusion matrix')\n",
        "plt.colorbar()\n",
        "tick_marks = np.arange(len(classes_stft))\n",
        "plt.xticks(tick_marks, classes_stft, rotation=45)\n",
        "plt.yticks(tick_marks, classes_stft)\n",
        "fmt = 'd'\n",
        "thresh = cm.max() / 2.\n",
        "for i, j in np.ndindex(cm.shape):\n",
        "    plt.text(j, i, format(cm[i, j], fmt),\n",
        "             horizontalalignment=\"center\",\n",
        "             color=\"white\" if cm[i, j] > thresh else \"black\")\n",
        "plt.tight_layout()\n",
        "plt.ylabel('True label')\n",
        "plt.xlabel('Predicted label')\n",
        "plt.show()"
      ],
      "metadata": {
        "colab": {
          "base_uri": "https://localhost:8080/",
          "height": 558
        },
        "id": "-5RQ_gHjp6H6",
        "outputId": "845472b6-51e5-4fba-f651-5f8be793caec"
      },
      "execution_count": 27,
      "outputs": [
        {
          "output_type": "stream",
          "name": "stdout",
          "text": [
            "89/89 [==============================] - 2s 19ms/step\n",
            "The Test Accuracy is 0.9609978917779339 \n",
            " The F1 Score is 0.9609978917779339\n"
          ]
        },
        {
          "output_type": "display_data",
          "data": {
            "text/plain": [
              "<Figure size 640x480 with 2 Axes>"
            ],
            "image/png": "[encoded data removed]"
          },
          "metadata": {}
        }
      ]
    },
    {
      "cell_type": "code",
      "source": [
        "import keras\n",
        "import numpy as np\n",
        "from matplotlib import pyplot as plt\n",
        "from sklearn.metrics import f1_score , accuracy_score\n",
        "import keras\n",
        "\n",
        "\n",
        "model = keras.saving.load_model('my_model.h5')\n",
        "pred = model.predict(X_valid)\n",
        "preds = []\n",
        "for i in pred:\n",
        "    out = np.argmax(i)\n",
        "    preds.append(out)\n",
        "f1score = f1_score(y_valid,preds,average='micro')\n",
        "accuracy = accuracy_score(y_valid,preds)\n",
        "\n",
        "print(f\"The Test Accuracy is {accuracy} \\n The F1 Score is {f1score}\")\n",
        "from sklearn.metrics import confusion_matrix\n",
        "cm = confusion_matrix(y_valid,preds)\n",
        "plt.imshow(cm, interpolation='nearest', cmap=plt.cm.Blues)\n",
        "plt.title('Confusion matrix')\n",
        "plt.colorbar()\n",
        "tick_marks = np.arange(len(classes))\n",
        "plt.xticks(tick_marks, classes, rotation=45)\n",
        "plt.yticks(tick_marks, classes)\n",
        "fmt = 'd'\n",
        "thresh = cm.max() / 2.\n",
        "for i, j in np.ndindex(cm.shape):\n",
        "    plt.text(j, i, format(cm[i, j], fmt),\n",
        "             horizontalalignment=\"center\",\n",
        "             color=\"white\" if cm[i, j] > thresh else \"black\")\n",
        "plt.tight_layout()\n",
        "plt.ylabel('True label')\n",
        "plt.xlabel('Predicted label')\n",
        "plt.show()"
      ],
      "metadata": {
        "colab": {
          "base_uri": "https://localhost:8080/",
          "height": 558
        },
        "id": "Nofub36NraNH",
        "outputId": "514d9c76-555c-41b7-fb67-ee3b3af32e78"
      },
      "execution_count": 30,
      "outputs": [
        {
          "output_type": "stream",
          "name": "stdout",
          "text": [
            "89/89 [==============================] - 2s 16ms/step\n",
            "The Test Accuracy is 0.9508081517919887 \n",
            " The F1 Score is 0.9508081517919887\n"
          ]
        },
        {
          "output_type": "display_data",
          "data": {
            "text/plain": [
              "<Figure size 640x480 with 2 Axes>"
            ],
            "image/png": "[encoded data removed]"
          },
          "metadata": {}
        }
      ]
    }
  ],
  "metadata": {
    "accelerator": "GPU",
    "colab": {
      "gpuType": "T4",
      "provenance": []
    },
    "kernelspec": {
      "name": "python3",
      "display_name": "Python 3"
    },
    "language_info": {
      "name": "python"
    }
  },
  "nbformat": 4,
  "nbformat_minor": 0
}